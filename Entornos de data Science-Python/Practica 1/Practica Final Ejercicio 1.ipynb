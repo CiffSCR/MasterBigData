{
 "cells": [
  {
   "cell_type": "markdown",
   "metadata": {},
   "source": [
    "# Comentarios sobre la practica 1\n",
    "Dificultades: La mayor dificultad en esta primera parte de la práctica final ha sido el obtener un data frame conjunto con los datos de las 3 cotizaciones. El hecho de que las fechas fueran unixTime y quisieramos obtener una única cotización por fecha cuando había varias, ha sido lo más complicado.\n",
    "En la creación de los gráficos también he tenido que consultar en internet para conseguir el gráfico deseado\n",
    "La parte que me ha quedado por realizar ha sido resaltar el valor máximo de la cotización en el gráfico de la serie temporal."
   ]
  },
  {
   "cell_type": "markdown",
   "metadata": {},
   "source": [
    "# Prueba de evaluacion 1\n",
    "## Parte 1 \n",
    "En esta primera parte trabajaremos con datos de cotización de Bitcoin. En esta página:\n",
    "[http://www.coindesk.com/price/]\n",
    "Se pueden descargar los valores de “cierre” de esa cotización en dólares en diferentes\n",
    "mercados “exchanges” mediante el botón “Export” del gráfico, como CSV."
   ]
  },
  {
   "cell_type": "markdown",
   "metadata": {},
   "source": [
    "Descargamos los ficheros de la web:\n",
    "![](recursos/ficheros.jpg)\n"
   ]
  },
  {
   "cell_type": "markdown",
   "metadata": {},
   "source": [
    "Cargamos las librerias que vamos a utilizar:"
   ]
  },
  {
   "cell_type": "code",
   "execution_count": 1,
   "metadata": {
    "collapsed": false
   },
   "outputs": [],
   "source": [
    "%matplotlib inline\n",
    "import pandas as pd \n",
    "import numpy as np \n",
    "from datetime import datetime, date, timedelta\n",
    "import ggplot as g\n",
    "from numpy import convolve \n",
    "import matplotlib.pyplot as plt"
   ]
  },
  {
   "cell_type": "markdown",
   "metadata": {},
   "source": [
    "Leemos los ficheros csv"
   ]
  },
  {
   "cell_type": "code",
   "execution_count": 2,
   "metadata": {
    "collapsed": false
   },
   "outputs": [
    {
     "data": {
      "text/html": [
       "<div>\n",
       "<table border=\"1\" class=\"dataframe\">\n",
       "  <thead>\n",
       "    <tr style=\"text-align: right;\">\n",
       "      <th></th>\n",
       "      <th>date</th>\n",
       "      <th>price_EUR</th>\n",
       "      <th>amount_EUR</th>\n",
       "    </tr>\n",
       "  </thead>\n",
       "  <tbody>\n",
       "    <tr>\n",
       "      <th>0</th>\n",
       "      <td>1392570616</td>\n",
       "      <td>484.522079</td>\n",
       "      <td>0.020907</td>\n",
       "    </tr>\n",
       "    <tr>\n",
       "      <th>1</th>\n",
       "      <td>1394464117</td>\n",
       "      <td>459.863573</td>\n",
       "      <td>0.067890</td>\n",
       "    </tr>\n",
       "    <tr>\n",
       "      <th>2</th>\n",
       "      <td>1394479269</td>\n",
       "      <td>449.760099</td>\n",
       "      <td>0.040644</td>\n",
       "    </tr>\n",
       "    <tr>\n",
       "      <th>3</th>\n",
       "      <td>1395251525</td>\n",
       "      <td>443.000000</td>\n",
       "      <td>0.100000</td>\n",
       "    </tr>\n",
       "  </tbody>\n",
       "</table>\n",
       "</div>"
      ],
      "text/plain": [
       "         date   price_EUR  amount_EUR\n",
       "0  1392570616  484.522079    0.020907\n",
       "1  1394464117  459.863573    0.067890\n",
       "2  1394479269  449.760099    0.040644\n",
       "3  1395251525  443.000000    0.100000"
      ]
     },
     "execution_count": 2,
     "metadata": {},
     "output_type": "execute_result"
    }
   ],
   "source": [
    "bc_EUR = pd.read_csv(\"datos/anxhkEUR.csv\")\n",
    "bc_GBP = pd.read_csv(\"datos/anxhkGBP.csv\") \n",
    "bc_USD = pd.read_csv(\"datos/anxhkUSD.csv\")\n",
    "#Damos nombre a las columnas, ya que el csv viene sin encabezado\n",
    "bc_EUR.columns=['date','price_EUR','amount_EUR']\n",
    "bc_GBP.columns=['date','price_GBP','amount_GBP']\n",
    "bc_USD.columns=['date','price_USD','amount_USD']\n",
    "bc_EUR.head(4)"
   ]
  },
  {
   "cell_type": "code",
   "execution_count": 3,
   "metadata": {
    "collapsed": false
   },
   "outputs": [],
   "source": [
    "#Creamos una funcion para convertir la fecha unix time en un timestamp\n",
    "def cambioFecha_Datetime(unixFec):\n",
    "   return datetime.fromtimestamp(unixFec)\n",
    "def cambioFecha_Date(unixFec):\n",
    "   return date.fromtimestamp(unixFec)"
   ]
  },
  {
   "cell_type": "code",
   "execution_count": 4,
   "metadata": {
    "collapsed": false
   },
   "outputs": [],
   "source": [
    "bc_EUR['dateTime']=bc_EUR['date'].apply(cambioFecha_Datetime)\n",
    "bc_GBP['dateTime']=bc_GBP['date'].apply(cambioFecha_Datetime)\n",
    "bc_USD['dateTime']=bc_USD['date'].apply(cambioFecha_Datetime)\n",
    "bc_EUR['date']=bc_EUR['date'].apply(cambioFecha_Date)\n",
    "bc_GBP['date']=bc_GBP['date'].apply(cambioFecha_Date)\n",
    "bc_USD['date']=bc_USD['date'].apply(cambioFecha_Date)\n"
   ]
  },
  {
   "cell_type": "code",
   "execution_count": 5,
   "metadata": {
    "collapsed": false,
    "scrolled": false
   },
   "outputs": [
    {
     "data": {
      "text/html": [
       "<div>\n",
       "<table border=\"1\" class=\"dataframe\">\n",
       "  <thead>\n",
       "    <tr style=\"text-align: right;\">\n",
       "      <th></th>\n",
       "      <th>date</th>\n",
       "      <th>price_EUR</th>\n",
       "      <th>amount_EUR</th>\n",
       "      <th>dateTime</th>\n",
       "    </tr>\n",
       "  </thead>\n",
       "  <tbody>\n",
       "    <tr>\n",
       "      <th>0</th>\n",
       "      <td>2014-02-16</td>\n",
       "      <td>484.522079</td>\n",
       "      <td>0.020907</td>\n",
       "      <td>2014-02-16 18:10:16</td>\n",
       "    </tr>\n",
       "    <tr>\n",
       "      <th>1</th>\n",
       "      <td>2014-03-10</td>\n",
       "      <td>459.863573</td>\n",
       "      <td>0.067890</td>\n",
       "      <td>2014-03-10 16:08:37</td>\n",
       "    </tr>\n",
       "    <tr>\n",
       "      <th>2</th>\n",
       "      <td>2014-03-10</td>\n",
       "      <td>449.760099</td>\n",
       "      <td>0.040644</td>\n",
       "      <td>2014-03-10 20:21:09</td>\n",
       "    </tr>\n",
       "    <tr>\n",
       "      <th>3</th>\n",
       "      <td>2014-03-19</td>\n",
       "      <td>443.000000</td>\n",
       "      <td>0.100000</td>\n",
       "      <td>2014-03-19 18:52:05</td>\n",
       "    </tr>\n",
       "  </tbody>\n",
       "</table>\n",
       "</div>"
      ],
      "text/plain": [
       "         date   price_EUR  amount_EUR            dateTime\n",
       "0  2014-02-16  484.522079    0.020907 2014-02-16 18:10:16\n",
       "1  2014-03-10  459.863573    0.067890 2014-03-10 16:08:37\n",
       "2  2014-03-10  449.760099    0.040644 2014-03-10 20:21:09\n",
       "3  2014-03-19  443.000000    0.100000 2014-03-19 18:52:05"
      ]
     },
     "execution_count": 5,
     "metadata": {},
     "output_type": "execute_result"
    }
   ],
   "source": [
    "bc_EUR.head(4)"
   ]
  },
  {
   "cell_type": "markdown",
   "metadata": {},
   "source": [
    "Vamos a tomar un fichero de datos menor. Para ello vamos a quedarnos con los datos del ultimo año que aparece en el fichero del Euro.\n",
    "Tomaremos ese intervalo en los otros tres fichero."
   ]
  },
  {
   "cell_type": "code",
   "execution_count": 6,
   "metadata": {
    "collapsed": false,
    "scrolled": false
   },
   "outputs": [],
   "source": [
    "\n",
    "max_date_cotiz=bc_EUR['date'].max()\n",
    "min_date_cotiz=max_date_cotiz-timedelta(days=365)\n",
    "bc_EUR = bc_EUR[(bc_EUR['date'] >= min_date_cotiz) & (bc_EUR['date'] <= max_date_cotiz)]\n",
    "bc_GBP = bc_GBP[(bc_GBP['date'] >= min_date_cotiz) & (bc_GBP['date'] <= max_date_cotiz)]\n",
    "bc_USD = bc_USD[(bc_USD['date'] >= min_date_cotiz) & (bc_USD['date'] <= max_date_cotiz)]\n"
   ]
  },
  {
   "cell_type": "markdown",
   "metadata": {},
   "source": [
    "Nos vamos a quedar con la hora más alta de cada día para tomarla como hora de cierre.\n",
    "Después eliminamos la columna dateTime porque ya no la necesitamos"
   ]
  },
  {
   "cell_type": "code",
   "execution_count": 7,
   "metadata": {
    "collapsed": false
   },
   "outputs": [],
   "source": [
    "bc_EUR = bc_EUR.sort_values(['date','dateTime'], ascending=True).groupby('date', as_index=False).last()\n",
    "bc_GBP = bc_GBP.sort_values(['date','dateTime'], ascending=True).groupby('date', as_index=False).last()\n",
    "bc_USD = bc_USD.sort_values(['date','dateTime'], ascending=True).groupby('date', as_index=False).last()\n",
    "bc_EUR=bc_EUR.drop('dateTime', axis=1)\n",
    "bc_GBP=bc_GBP.drop('dateTime', axis=1)\n",
    "bc_USD=bc_USD.drop('dateTime', axis=1)\n"
   ]
  },
  {
   "cell_type": "code",
   "execution_count": 8,
   "metadata": {
    "collapsed": false
   },
   "outputs": [
    {
     "data": {
      "text/html": [
       "<div>\n",
       "<table border=\"1\" class=\"dataframe\">\n",
       "  <thead>\n",
       "    <tr style=\"text-align: right;\">\n",
       "      <th></th>\n",
       "      <th>date</th>\n",
       "      <th>price_EUR</th>\n",
       "      <th>amount_EUR</th>\n",
       "      <th>price_GBP</th>\n",
       "      <th>amount_GBP</th>\n",
       "      <th>price_USD</th>\n",
       "      <th>amount_USD</th>\n",
       "    </tr>\n",
       "  </thead>\n",
       "  <tbody>\n",
       "    <tr>\n",
       "      <th>0</th>\n",
       "      <td>2014-10-10</td>\n",
       "      <td>284.23860</td>\n",
       "      <td>0.5080</td>\n",
       "      <td>223.20914</td>\n",
       "      <td>0.5080</td>\n",
       "      <td>355.00000</td>\n",
       "      <td>0.5080</td>\n",
       "    </tr>\n",
       "    <tr>\n",
       "      <th>1</th>\n",
       "      <td>2014-10-11</td>\n",
       "      <td>288.00421</td>\n",
       "      <td>1.9823</td>\n",
       "      <td>226.20936</td>\n",
       "      <td>1.9823</td>\n",
       "      <td>363.64030</td>\n",
       "      <td>1.9823</td>\n",
       "    </tr>\n",
       "    <tr>\n",
       "      <th>2</th>\n",
       "      <td>2014-10-12</td>\n",
       "      <td>289.02561</td>\n",
       "      <td>1.0000</td>\n",
       "      <td>227.04461</td>\n",
       "      <td>1.0000</td>\n",
       "      <td>365.00000</td>\n",
       "      <td>1.0000</td>\n",
       "    </tr>\n",
       "    <tr>\n",
       "      <th>3</th>\n",
       "      <td>2014-10-13</td>\n",
       "      <td>299.05847</td>\n",
       "      <td>0.0700</td>\n",
       "      <td>236.65719</td>\n",
       "      <td>0.0700</td>\n",
       "      <td>380.65587</td>\n",
       "      <td>0.0700</td>\n",
       "    </tr>\n",
       "    <tr>\n",
       "      <th>4</th>\n",
       "      <td>2014-10-14</td>\n",
       "      <td>322.51120</td>\n",
       "      <td>0.0300</td>\n",
       "      <td>256.63958</td>\n",
       "      <td>0.0300</td>\n",
       "      <td>403.99999</td>\n",
       "      <td>0.0300</td>\n",
       "    </tr>\n",
       "  </tbody>\n",
       "</table>\n",
       "</div>"
      ],
      "text/plain": [
       "         date  price_EUR  amount_EUR  price_GBP  amount_GBP  price_USD  \\\n",
       "0  2014-10-10  284.23860      0.5080  223.20914      0.5080  355.00000   \n",
       "1  2014-10-11  288.00421      1.9823  226.20936      1.9823  363.64030   \n",
       "2  2014-10-12  289.02561      1.0000  227.04461      1.0000  365.00000   \n",
       "3  2014-10-13  299.05847      0.0700  236.65719      0.0700  380.65587   \n",
       "4  2014-10-14  322.51120      0.0300  256.63958      0.0300  403.99999   \n",
       "\n",
       "   amount_USD  \n",
       "0      0.5080  \n",
       "1      1.9823  \n",
       "2      1.0000  \n",
       "3      0.0700  \n",
       "4      0.0300  "
      ]
     },
     "execution_count": 8,
     "metadata": {},
     "output_type": "execute_result"
    }
   ],
   "source": [
    "#Unimos todos los datos en una única variable\n",
    "bc_mix=bc_EUR.merge(bc_GBP.merge(bc_USD,how='outer'),on='date',how='outer')\n",
    "bc_mix.head()"
   ]
  },
  {
   "cell_type": "code",
   "execution_count": 9,
   "metadata": {
    "collapsed": false
   },
   "outputs": [],
   "source": [
    "#indexamos la columna date\n",
    "bc_mix= bc_mix.set_index(['date'])"
   ]
  },
  {
   "cell_type": "code",
   "execution_count": 10,
   "metadata": {
    "collapsed": false
   },
   "outputs": [],
   "source": [
    "#buscamos la fecha con la máxima y mínima cotización\n",
    "max_date= pd.Series([bc_mix['price_EUR'].idxmax(),bc_mix['price_GBP'].idxmax(),bc_mix['price_USD'].idxmax()]).max()\n",
    "min_date= pd.Series([bc_mix['price_EUR'].idxmin(),bc_mix['price_GBP'].idxmin(),bc_mix['price_USD'].idxmin()]).min()\n"
   ]
  },
  {
   "cell_type": "code",
   "execution_count": 11,
   "metadata": {
    "collapsed": false
   },
   "outputs": [
    {
     "name": "stdout",
     "output_type": "stream",
     "text": [
      "fecha max cotizacion: 2014-11-13. Fecha de minima cotizacion: 2015-01-14\n"
     ]
    }
   ],
   "source": [
    "print \"fecha max cotizacion: \"+ str(max_date) + \". Fecha de minima cotizacion: \"+ str(min_date)"
   ]
  },
  {
   "cell_type": "code",
   "execution_count": 26,
   "metadata": {
    "collapsed": false,
    "scrolled": true
   },
   "outputs": [
    {
     "data": {
      "text/plain": [
       "<matplotlib.axes._subplots.AxesSubplot at 0x165f7f60>"
      ]
     },
     "execution_count": 26,
     "metadata": {},
     "output_type": "execute_result"
    },
    {
     "data": {
      "image/png": "[encoded data removed]",
      "text/plain": [
       "<matplotlib.figure.Figure at 0x16574d68>"
      ]
     },
     "metadata": {},
     "output_type": "display_data"
    }
   ],
   "source": [
    "#Calculo de la media movil en una ventana de 60\n",
    "media_movil_EUR=bc_mix['price_EUR'].rolling(window=60).mean().dropna()\n",
    "media_movil_GBP=bc_mix['price_GBP'].rolling(window=60).mean().dropna()\n",
    "media_movil_USD=bc_mix['price_USD'].rolling(window=60).mean().dropna()\n",
    "#media_movil_EUR.plot(figsize=(15,8))\n",
    "media_movil=pd.concat([media_movil_EUR, media_movil_GBP, media_movil_USD], axis=1)\n",
    "media_movil.plot(figsize=(18,6))"
   ]
  },
  {
   "cell_type": "markdown",
   "metadata": {},
   "source": [
    "Obtenemos la máxima diferencia entre las cotizaciones del bitcoin en euros y dólares y tambien su diferencia media"
   ]
  },
  {
   "cell_type": "code",
   "execution_count": 27,
   "metadata": {
    "collapsed": false
   },
   "outputs": [
    {
     "name": "stdout",
     "output_type": "stream",
     "text": [
      "la diferencia media entre la cotizacion en euros y en dólares fue de -35.1077431389\n",
      "la máxima diferencia entre la cotización en euros y en dólares fue de 86.24901\n"
     ]
    }
   ],
   "source": [
    "dif_max=(bc_mix['price_EUR']-bc_mix['price_USD']).abs().max()\n",
    "dif_media=(bc_mix['price_EUR']-bc_mix['price_USD']).mean()\n",
    "print \"la diferencia media entre la cotizacion en euros y en dólares fue de \" + str(dif_media)\n",
    "print \"la máxima diferencia entre la cotización en euros y en dólares fue de \" +str(dif_max) "
   ]
  },
  {
   "cell_type": "code",
   "execution_count": null,
   "metadata": {
    "collapsed": true
   },
   "outputs": [],
   "source": []
  }
 ],
 "metadata": {
  "kernelspec": {
   "display_name": "Python 2",
   "language": "python",
   "name": "python2"
  },
  "language_info": {
   "codemirror_mode": {
    "name": "ipython",
    "version": 2
   },
   "file_extension": ".py",
   "mimetype": "text/x-python",
   "name": "python",
   "nbconvert_exporter": "python",
   "pygments_lexer": "ipython2",
   "version": "2.7.12"
  }
 },
 "nbformat": 4,
 "nbformat_minor": 0
}
