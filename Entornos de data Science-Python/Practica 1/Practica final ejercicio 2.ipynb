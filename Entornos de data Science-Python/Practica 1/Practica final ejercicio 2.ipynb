{
 "cells": [
  {
   "cell_type": "markdown",
   "metadata": {},
   "source": [
    "# Comentarios sobre la práctica 2\n"
   ]
  },
  {
   "cell_type": "markdown",
   "metadata": {
    "collapsed": true
   },
   "source": [
    "En este ejercicio he hecho todas las partes. La mayoría de los comandos utilizados los hemos visto en claso, el resto se han encontrado facilmente en internet"
   ]
  },
  {
   "cell_type": "markdown",
   "metadata": {},
   "source": [
    "## Parte 2\n",
    "\n",
    "En esta segunda parte trabajaremos con un dataset de R que describe las características\n",
    "\n",
    "físicas de un conjunto de diamantes. Puede cargarse mediante get_rdataset(), y está en el\n",
    "\n",
    "paquete \"ggplot2\" con nombre \"diamonds\"."
   ]
  },
  {
   "cell_type": "code",
   "execution_count": 7,
   "metadata": {
    "collapsed": false,
    "scrolled": true
   },
   "outputs": [
    {
     "data": {
      "text/html": [
       "<div>\n",
       "<table border=\"1\" class=\"dataframe\">\n",
       "  <thead>\n",
       "    <tr style=\"text-align: right;\">\n",
       "      <th></th>\n",
       "      <th>carat</th>\n",
       "      <th>cut</th>\n",
       "      <th>color</th>\n",
       "      <th>clarity</th>\n",
       "      <th>depth</th>\n",
       "      <th>table</th>\n",
       "      <th>price</th>\n",
       "      <th>x</th>\n",
       "      <th>y</th>\n",
       "      <th>z</th>\n",
       "    </tr>\n",
       "  </thead>\n",
       "  <tbody>\n",
       "    <tr>\n",
       "      <th>0</th>\n",
       "      <td>0.23</td>\n",
       "      <td>Ideal</td>\n",
       "      <td>E</td>\n",
       "      <td>SI2</td>\n",
       "      <td>61.5</td>\n",
       "      <td>55.0</td>\n",
       "      <td>326</td>\n",
       "      <td>3.95</td>\n",
       "      <td>3.98</td>\n",
       "      <td>2.43</td>\n",
       "    </tr>\n",
       "    <tr>\n",
       "      <th>1</th>\n",
       "      <td>0.21</td>\n",
       "      <td>Premium</td>\n",
       "      <td>E</td>\n",
       "      <td>SI1</td>\n",
       "      <td>59.8</td>\n",
       "      <td>61.0</td>\n",
       "      <td>326</td>\n",
       "      <td>3.89</td>\n",
       "      <td>3.84</td>\n",
       "      <td>2.31</td>\n",
       "    </tr>\n",
       "    <tr>\n",
       "      <th>2</th>\n",
       "      <td>0.23</td>\n",
       "      <td>Good</td>\n",
       "      <td>E</td>\n",
       "      <td>VS1</td>\n",
       "      <td>56.9</td>\n",
       "      <td>65.0</td>\n",
       "      <td>327</td>\n",
       "      <td>4.05</td>\n",
       "      <td>4.07</td>\n",
       "      <td>2.31</td>\n",
       "    </tr>\n",
       "    <tr>\n",
       "      <th>3</th>\n",
       "      <td>0.29</td>\n",
       "      <td>Premium</td>\n",
       "      <td>I</td>\n",
       "      <td>VS2</td>\n",
       "      <td>62.4</td>\n",
       "      <td>58.0</td>\n",
       "      <td>334</td>\n",
       "      <td>4.20</td>\n",
       "      <td>4.23</td>\n",
       "      <td>2.63</td>\n",
       "    </tr>\n",
       "    <tr>\n",
       "      <th>4</th>\n",
       "      <td>0.31</td>\n",
       "      <td>Good</td>\n",
       "      <td>J</td>\n",
       "      <td>SI2</td>\n",
       "      <td>63.3</td>\n",
       "      <td>58.0</td>\n",
       "      <td>335</td>\n",
       "      <td>4.34</td>\n",
       "      <td>4.35</td>\n",
       "      <td>2.75</td>\n",
       "    </tr>\n",
       "  </tbody>\n",
       "</table>\n",
       "</div>"
      ],
      "text/plain": [
       "   carat      cut color clarity  depth  table  price     x     y     z\n",
       "0   0.23    Ideal     E     SI2   61.5   55.0    326  3.95  3.98  2.43\n",
       "1   0.21  Premium     E     SI1   59.8   61.0    326  3.89  3.84  2.31\n",
       "2   0.23     Good     E     VS1   56.9   65.0    327  4.05  4.07  2.31\n",
       "3   0.29  Premium     I     VS2   62.4   58.0    334  4.20  4.23  2.63\n",
       "4   0.31     Good     J     SI2   63.3   58.0    335  4.34  4.35  2.75"
      ]
     },
     "execution_count": 7,
     "metadata": {},
     "output_type": "execute_result"
    }
   ],
   "source": [
    "%matplotlib inline\n",
    "import ggplot as gp\n",
    "import statsmodels.api as sm\n",
    "import matplotlib.pyplot as plt\n",
    "import pandas as pd\n",
    "import numpy as np\n",
    "from scipy import stats\n",
    "import seaborn as sns \n",
    "\n",
    "diamonds = sm.datasets.get_rdataset(\"diamonds\",\"ggplot2\").data\n",
    "diamonds.head()"
   ]
  },
  {
   "cell_type": "markdown",
   "metadata": {},
   "source": [
    " Calcula los valores máximo, mínimo y medio de la variable carat."
   ]
  },
  {
   "cell_type": "code",
   "execution_count": 8,
   "metadata": {
    "collapsed": false,
    "scrolled": true
   },
   "outputs": [
    {
     "name": "stdout",
     "output_type": "stream",
     "text": [
      "El valor maximo de la variable carat es: 5.01\n",
      "El valor mínimo de la variable carat es: 0.2\n",
      "El valor medio de la variable carat es: 0.797939747868\n"
     ]
    }
   ],
   "source": [
    "maximo_carat=diamonds['carat'].max()\n",
    "minimo_carat=diamonds['carat'].min()\n",
    "media_carat=diamonds['carat'].mean()\n",
    "print \"El valor maximo de la variable carat es: \"+  str(maximo_carat)\n",
    "print \"El valor mínimo de la variable carat es: \"+  str(minimo_carat)\n",
    "print \"El valor medio de la variable carat es: \"+  str(media_carat)"
   ]
  },
  {
   "cell_type": "markdown",
   "metadata": {},
   "source": [
    "* Dibuja su histograma y sobre el mismo gráfico, el histograma de una muestra aleatoria del mismo tamaño con puntos obtenidos de una distribución gamma con la misma media y desviación típica. Haz que la visualización sea más adecuada haciendo transparente uno de los histogramas utilizando el parámetro alpha."
   ]
  },
  {
   "cell_type": "code",
   "execution_count": 9,
   "metadata": {
    "collapsed": false,
    "scrolled": true
   },
   "outputs": [
    {
     "data": {
      "image/png": "[encoded data removed]",
      "text/plain": [
       "<matplotlib.figure.Figure at 0xc5ed978>"
      ]
     },
     "metadata": {},
     "output_type": "display_data"
    }
   ],
   "source": [
    "desvTip_carat=diamonds['carat'].std()\n",
    "r = np.random.gamma(media_carat, desvTip_carat, diamonds.carat.size)\n",
    "\n",
    "plt.hist(diamonds.carat, bins=20, color=\"red\")\n",
    "plt.hist(r, alpha=0.5,bins=20, color=\"blue\")\n",
    "\n",
    "plt.show()"
   ]
  },
  {
   "cell_type": "markdown",
   "metadata": {},
   "source": [
    "* Utilizando matplotlib, dibuja la nube de puntos de carat contra el precio, con ambos ejes en escala logarítmica."
   ]
  },
  {
   "cell_type": "code",
   "execution_count": 10,
   "metadata": {
    "collapsed": false,
    "scrolled": true
   },
   "outputs": [
    {
     "data": {
      "image/png": "[encoded data removed]",
      "text/plain": [
       "<matplotlib.figure.Figure at 0xc645fd0>"
      ]
     },
     "metadata": {},
     "output_type": "display_data"
    }
   ],
   "source": [
    "plt.plot(diamonds.carat, diamonds.price, 'o', label='scatterplot', markersize=2)\n",
    "plt.semilogx()\n",
    "plt.semilogy()\n",
    "plt.show()"
   ]
  },
  {
   "cell_type": "markdown",
   "metadata": {},
   "source": [
    "* Ahora repite el gráfico pero utiliza solo los datos cuyo color sea \"E\" y su claridad sea \"SI1\""
   ]
  },
  {
   "cell_type": "code",
   "execution_count": 11,
   "metadata": {
    "collapsed": false
   },
   "outputs": [
    {
     "data": {
      "image/png": "[encoded data removed]",
      "text/plain": [
       "<matplotlib.figure.Figure at 0xd456f98>"
      ]
     },
     "metadata": {},
     "output_type": "display_data"
    }
   ],
   "source": [
    "diamonds_Filt = diamonds[(diamonds.color=='E') &(diamonds.clarity=='SI1')]\n",
    "diamonds_Filt.head(4)\n",
    "plt.semilogx()\n",
    "plt.semilogy()\n",
    "plt.plot(diamonds_Filt.carat, diamonds_Filt.price, 'o', label='Scatter Plot', markersize=2)\n",
    "plt.show()"
   ]
  },
  {
   "cell_type": "markdown",
   "metadata": {},
   "source": [
    "* Investiga con un gráfico la relación entre el volumen (que puedes aproximar a partir de (x, y, z) y el precio, de nuevo en escala logarítmica."
   ]
  },
  {
   "cell_type": "code",
   "execution_count": 12,
   "metadata": {
    "collapsed": false,
    "scrolled": true
   },
   "outputs": [
    {
     "data": {
      "text/plain": [
       "[<matplotlib.lines.Line2D at 0xd309470>]"
      ]
     },
     "execution_count": 12,
     "metadata": {},
     "output_type": "execute_result"
    },
    {
     "data": {
      "image/png": "[encoded data removed]",
      "text/plain": [
       "<matplotlib.figure.Figure at 0xeeef978>"
      ]
     },
     "metadata": {},
     "output_type": "display_data"
    }
   ],
   "source": [
    "diamonds_vol=diamonds.x * diamonds.y * diamonds.z\n",
    "diamonds[\"volume\"]=diamonds_vol\n",
    "# generamos una nube de puntos para verificar gráficamente si existe relación entre las variables\n",
    "plt.semilogx()\n",
    "plt.semilogy()\n",
    "plt.plot(diamonds.volume, diamonds.price, 'o', label='Scatter Plot', markersize=2)"
   ]
  },
  {
   "cell_type": "markdown",
   "metadata": {},
   "source": [
    "* Utilizando scipy.stats, comprueba si se la relación anterior ajusta bien a un modelo de regresión lineal, tomando solo los 1000 primeros valores del dataset."
   ]
  },
  {
   "cell_type": "code",
   "execution_count": 13,
   "metadata": {
    "collapsed": false
   },
   "outputs": [
    {
     "name": "stdout",
     "output_type": "stream",
     "text": [
      "El coeficiente de correlacion es es 0.864771526831\n"
     ]
    }
   ],
   "source": [
    "sample=diamonds.head(1000)\n",
    "y = sample['price']\n",
    "x = sample['volume']\n",
    "slope, intercept, r_value, p_value, std_err = stats.linregress(x,y)\n",
    "print \"El coeficiente de correlacion es es \" + str(r_value)"
   ]
  },
  {
   "cell_type": "markdown",
   "metadata": {},
   "source": [
    "Al ser el coeficiente de correlación próximo a 1, pordemos decir que el ajuste delmodelo es bueno."
   ]
  },
  {
   "cell_type": "markdown",
   "metadata": {},
   "source": [
    "* Utilizando seaborn, representa la nube de puntos del precio contra el carat y asociando al diagrama las distribuciones de las dos variables."
   ]
  },
  {
   "cell_type": "code",
   "execution_count": 14,
   "metadata": {
    "collapsed": false,
    "scrolled": true
   },
   "outputs": [
    {
     "data": {
      "text/plain": [
       "<seaborn.axisgrid.JointGrid at 0xcf20160>"
      ]
     },
     "execution_count": 14,
     "metadata": {},
     "output_type": "execute_result"
    },
    {
     "data": {
      "image/png": "[encoded data removed]",
      "text/plain": [
       "<matplotlib.figure.Figure at 0xec2b128>"
      ]
     },
     "metadata": {},
     "output_type": "display_data"
    }
   ],
   "source": [
    "sns.set(style=\"ticks\")\n",
    "\n",
    "sns.jointplot(diamonds.carat, diamonds.price, kind=\"reg\", color=\"blue\")"
   ]
  },
  {
   "cell_type": "markdown",
   "metadata": {},
   "source": [
    "* Identifica con un comando los diferentes tipos de corte (cut)."
   ]
  },
  {
   "cell_type": "code",
   "execution_count": 40,
   "metadata": {
    "collapsed": false
   },
   "outputs": [
    {
     "name": "stdout",
     "output_type": "stream",
     "text": [
      "['Ideal' 'Premium' 'Good' 'Very Good' 'Fair']\n"
     ]
    }
   ],
   "source": [
    "print (diamonds[\"cut\"].unique())"
   ]
  },
  {
   "cell_type": "markdown",
   "metadata": {},
   "source": [
    "* Comprueba si hay diferencias significativas en la media del precio para los de corte \"Ideal\" y \"Premium\" y el resto, tomando 1000 valores de cada (nótese que no se puede asumir que las muestras son de una distribución normal). Puedes investigar funciones lógicas vectorizadas en NumPy como logical_or()."
   ]
  },
  {
   "cell_type": "code",
   "execution_count": 16,
   "metadata": {
    "collapsed": false
   },
   "outputs": [
    {
     "name": "stdout",
     "output_type": "stream",
     "text": [
      "La media de los ideales es  2573.572\n",
      "La media del resto es  2692.669\n",
      "0.000800654329852\n"
     ]
    }
   ],
   "source": [
    "diamonds_PrId=diamonds[np.logical_or(diamonds[\"cut\"]==\"Ideal\",diamonds[\"cut\"]==\"Premium\" )].head(1000)\n",
    "print \"La media de los ideales es \" , diamonds_PrId.price.mean()\n",
    "\n",
    "diamonds_Resto=diamonds[np.logical_and(diamonds[\"cut\"]!=\"Ideal\",diamonds[\"cut\"]!=\"Premium\" )].head(1000)\n",
    "print \"La media del resto es \" , diamonds_Resto.price.mean()\n",
    "f_val, p_val = stats.f_oneway(diamonds_PrId.price, diamonds_Resto.price)\n",
    "print \"el p_valor es: \"+ p_val"
   ]
  },
  {
   "cell_type": "markdown",
   "metadata": {},
   "source": [
    "El P_valor es muy pequeño por lo que rechazamos la hipótesis de que ambos conjuntos de datos tengan igual media"
   ]
  },
  {
   "cell_type": "markdown",
   "metadata": {},
   "source": [
    "* Obtén la mediana del precio por cada valor de la claridad (clarity) y ordena los resultados de manera descendente."
   ]
  },
  {
   "cell_type": "code",
   "execution_count": 43,
   "metadata": {
    "collapsed": false
   },
   "outputs": [
    {
     "name": "stdout",
     "output_type": "stream",
     "text": [
      "['SI2' 'SI1' 'VS1' 'VS2' 'VVS2' 'VVS1' 'I1' 'IF']\n"
     ]
    }
   ],
   "source": [
    "print (diamonds[\"clarity\"].unique())"
   ]
  },
  {
   "cell_type": "code",
   "execution_count": 18,
   "metadata": {
    "collapsed": false
   },
   "outputs": [
    {
     "name": "stdout",
     "output_type": "stream",
     "text": [
      "         price\n",
      "clarity       \n",
      "SI2       4072\n",
      "I1        3344\n",
      "SI1       2822\n",
      "VS2       2054\n",
      "VS1       2005\n",
      "VVS2      1311\n",
      "VVS1      1093\n",
      "IF        1080\n"
     ]
    }
   ],
   "source": [
    "diamonds_Clarity = diamonds.groupby(\"clarity\") \n",
    "mediaGroup= pd.DataFrame(diamonds_Clarity.price.median() )          \n",
    "print mediaGroup.sort_values(['price'], ascending=[0]) "
   ]
  }
 ],
 "metadata": {
  "kernelspec": {
   "display_name": "Python 2",
   "language": "python",
   "name": "python2"
  },
  "language_info": {
   "codemirror_mode": {
    "name": "ipython",
    "version": 2
   },
   "file_extension": ".py",
   "mimetype": "text/x-python",
   "name": "python",
   "nbconvert_exporter": "python",
   "pygments_lexer": "ipython2",
   "version": "2.7.12"
  }
 },
 "nbformat": 4,
 "nbformat_minor": 0
}
