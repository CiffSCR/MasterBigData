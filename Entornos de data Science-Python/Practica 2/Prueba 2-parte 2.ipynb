{
 "cells": [
  {
   "cell_type": "code",
   "execution_count": 88,
   "metadata": {
    "collapsed": true
   },
   "outputs": [],
   "source": [
    "%matplotlib inline\n",
    "from lxml import objectify\n",
    "import pandas as pd"
   ]
  },
  {
   "cell_type": "code",
   "execution_count": 90,
   "metadata": {
    "collapsed": false,
    "scrolled": true
   },
   "outputs": [
    {
     "name": "stdout",
     "output_type": "stream",
     "text": [
      " El volumen de la unidad C es Windows\n",
      " El n£mero de serie del volumen es: 8C9B-8A73\n",
      "\n",
      " Directorio de C:\\Users\\Sergio_2\\Desktop\\master\\Entornos data science en Python\\proyecto fin modulo\\entrega 2\n",
      "\n",
      "\n",
      " Directorio de C:\\Users\\Sergio_2\\Desktop\\master\\Entornos data science en Python\\proyecto fin modulo\\entrega 2\n",
      "\n",
      "\n",
      " Directorio de C:\\Users\\Sergio_2\\Desktop\\master\\Entornos data science en Python\\proyecto fin modulo\\entrega 2\n",
      "\n",
      "\n",
      " Directorio de C:\\Users\\Sergio_2\\Desktop\\master\\Entornos data science en Python\\proyecto fin modulo\\entrega 2\n",
      "\n",
      "\n",
      " Directorio de C:\\Users\\Sergio_2\\Desktop\\master\\Entornos data science en Python\\proyecto fin modulo\\entrega 2\n",
      "\n",
      "\n",
      " Directorio de C:\\Users\\Sergio_2\\Desktop\\master\\Entornos data science en Python\\proyecto fin modulo\\entrega 2\n",
      "\n",
      "\n",
      " Directorio de C:\\Users\\Sergio_2\\Desktop\\master\\Entornos data science en Python\\proyecto fin modulo\\entrega 2\n",
      "\n",
      "\n",
      " Directorio de C:\\Users\\Sergio_2\\Desktop\\master\\Entornos data science en Python\\proyecto fin modulo\\entrega 2\n",
      "\n",
      "\n",
      " Directorio de C:\\Users\\Sergio_2\\Desktop\\master\\Entornos data science en Python\\proyecto fin modulo\\entrega 2\n",
      "\n",
      "\n",
      " Directorio de C:\\Users\\Sergio_2\\Desktop\\master\\Entornos data science en Python\\proyecto fin modulo\\entrega 2\n",
      "\n",
      "\n",
      " Directorio de C:\\Users\\Sergio_2\\Desktop\\master\\Entornos data science en Python\\proyecto fin modulo\\entrega 2\n",
      "\n",
      "23/10/2016  13:51            23.235 UnplannedEvents.xml\n",
      "               1 archivos         23.235 bytes\n",
      "               0 dirs  234.372.222.976 bytes libres\n"
     ]
    }
   ],
   "source": [
    "%ls -l *.xml #vemos los ficheros xml que hay en el directorio"
   ]
  },
  {
   "cell_type": "markdown",
   "metadata": {},
   "source": [
    "vamos a parsear el xml para poder trabajar con él"
   ]
  },
  {
   "cell_type": "code",
   "execution_count": 92,
   "metadata": {
    "collapsed": false
   },
   "outputs": [
    {
     "name": "stdout",
     "output_type": "stream",
     "text": [
      "2\n"
     ]
    }
   ],
   "source": [
    "parsed = objectify.parse('UnplannedEvents.xml')\n",
    "root = parsed.getroot()\n",
    "print root.countchildren()#obtenemos el número de nodos que tiene la raiz"
   ]
  },
  {
   "cell_type": "markdown",
   "metadata": {},
   "source": [
    "Creamos los vectores donde vamos a guardar las diferentes características"
   ]
  },
  {
   "cell_type": "code",
   "execution_count": 93,
   "metadata": {
    "collapsed": true
   },
   "outputs": [],
   "source": [
    "situationId=[]\n",
    "situationType=[]\n",
    "probabilityOfOccurrence=[]\n",
    "impactOnTraffic =[]\n",
    "capacityRemaining=[]\n",
    "numberOfLanesRestricted=[]\n",
    "numberOfOperationalLanes =[]\n",
    "originalNumberOfLanes = []\n",
    "trafficRestrictionType = []\n",
    "delayTimeValue = []\n",
    "effectOnRoadLayout = []\n",
    "subjectTypeOfWorks =[]\n"
   ]
  },
  {
   "cell_type": "markdown",
   "metadata": {},
   "source": [
    "Recorremos el xml parseado para obtener los datos que queremos y despues creamos el data frame con los vectores"
   ]
  },
  {
   "cell_type": "code",
   "execution_count": 94,
   "metadata": {
    "collapsed": false
   },
   "outputs": [],
   "source": [
    "for i in root.payloadPublication.situation:\n",
    "    situationId.append(i.get('id'))\n",
    "    situationType.append(i.situationRecord.get(\"{http://www.w3.org/2001/XMLSchema-instance}type\"))\n",
    "    probabilityOfOccurrence.append(i.situationRecord.probabilityOfOccurrence.text)\n",
    "    impactOnTraffic.append(i.situationRecord.impact.impactOnTraffic.text)\n",
    "    capacityRemaining.append(float(i.situationRecord.impact.impactDetails.capacityRemaining.text))\n",
    "    numberOfLanesRestricted.append(int(i.situationRecord.impact.impactDetails.numberOfLanesRestricted.text))\n",
    "    numberOfOperationalLanes.append(int(i.situationRecord.impact.impactDetails.numberOfOperationalLanes.text))\n",
    "    originalNumberOfLanes.append(int(i.situationRecord.impact.impactDetails.originalNumberOfLanes.text))\n",
    "    trafficRestrictionType.append(i.situationRecord.impact.impactDetails.trafficRestrictionType.text)\n",
    "    delayTimeValue.append(float(i.situationRecord.impact.delays.delayTimeValue.text))"
   ]
  },
  {
   "cell_type": "code",
   "execution_count": 95,
   "metadata": {
    "collapsed": false,
    "scrolled": true
   },
   "outputs": [
    {
     "data": {
      "text/html": [
       "<div>\n",
       "<table border=\"1\" class=\"dataframe\">\n",
       "  <thead>\n",
       "    <tr style=\"text-align: right;\">\n",
       "      <th></th>\n",
       "      <th>situationId</th>\n",
       "      <th>situationType</th>\n",
       "      <th>probabilityOfOccurrence</th>\n",
       "      <th>impactOnTraffic</th>\n",
       "      <th>capacityRemaining</th>\n",
       "      <th>numberOfLanesRestricted</th>\n",
       "      <th>numberOfOperationalLanes</th>\n",
       "      <th>originalNumberOfLanes</th>\n",
       "      <th>trafficRestrictionType</th>\n",
       "      <th>delayTimeValue</th>\n",
       "    </tr>\n",
       "  </thead>\n",
       "  <tbody>\n",
       "    <tr>\n",
       "      <th>0</th>\n",
       "      <td>GUID732336731</td>\n",
       "      <td>MaintenanceWorks</td>\n",
       "      <td>certain</td>\n",
       "      <td>heavy</td>\n",
       "      <td>75.0</td>\n",
       "      <td>1</td>\n",
       "      <td>3</td>\n",
       "      <td>4</td>\n",
       "      <td>carriagewayPartiallyObstructed</td>\n",
       "      <td>600.0</td>\n",
       "    </tr>\n",
       "    <tr>\n",
       "      <th>1</th>\n",
       "      <td>GUID732889125</td>\n",
       "      <td>EnvironmentalObstruction</td>\n",
       "      <td>certain</td>\n",
       "      <td>impossible</td>\n",
       "      <td>0.0</td>\n",
       "      <td>2</td>\n",
       "      <td>0</td>\n",
       "      <td>2</td>\n",
       "      <td>carriagewayBlocked</td>\n",
       "      <td>900.0</td>\n",
       "    </tr>\n",
       "    <tr>\n",
       "      <th>2</th>\n",
       "      <td>GUID732957845</td>\n",
       "      <td>EnvironmentalObstruction</td>\n",
       "      <td>certain</td>\n",
       "      <td>impossible</td>\n",
       "      <td>0.0</td>\n",
       "      <td>1</td>\n",
       "      <td>0</td>\n",
       "      <td>1</td>\n",
       "      <td>carriagewayBlocked</td>\n",
       "      <td>600.0</td>\n",
       "    </tr>\n",
       "    <tr>\n",
       "      <th>3</th>\n",
       "      <td>GUID733038589</td>\n",
       "      <td>GeneralObstruction</td>\n",
       "      <td>certain</td>\n",
       "      <td>impossible</td>\n",
       "      <td>0.0</td>\n",
       "      <td>1</td>\n",
       "      <td>0</td>\n",
       "      <td>1</td>\n",
       "      <td>carriagewayBlocked</td>\n",
       "      <td>0.0</td>\n",
       "    </tr>\n",
       "    <tr>\n",
       "      <th>4</th>\n",
       "      <td>GUID733038591</td>\n",
       "      <td>GeneralObstruction</td>\n",
       "      <td>certain</td>\n",
       "      <td>impossible</td>\n",
       "      <td>0.0</td>\n",
       "      <td>1</td>\n",
       "      <td>0</td>\n",
       "      <td>1</td>\n",
       "      <td>carriagewayBlocked</td>\n",
       "      <td>0.0</td>\n",
       "    </tr>\n",
       "    <tr>\n",
       "      <th>5</th>\n",
       "      <td>GUID733043648</td>\n",
       "      <td>Accident</td>\n",
       "      <td>certain</td>\n",
       "      <td>freeFlow</td>\n",
       "      <td>33.0</td>\n",
       "      <td>2</td>\n",
       "      <td>1</td>\n",
       "      <td>3</td>\n",
       "      <td>carriagewayPartiallyObstructed</td>\n",
       "      <td>0.0</td>\n",
       "    </tr>\n",
       "  </tbody>\n",
       "</table>\n",
       "</div>"
      ],
      "text/plain": [
       "     situationId             situationType probabilityOfOccurrence  \\\n",
       "0  GUID732336731          MaintenanceWorks                 certain   \n",
       "1  GUID732889125  EnvironmentalObstruction                 certain   \n",
       "2  GUID732957845  EnvironmentalObstruction                 certain   \n",
       "3  GUID733038589        GeneralObstruction                 certain   \n",
       "4  GUID733038591        GeneralObstruction                 certain   \n",
       "5  GUID733043648                  Accident                 certain   \n",
       "\n",
       "  impactOnTraffic  capacityRemaining  numberOfLanesRestricted  \\\n",
       "0           heavy               75.0                        1   \n",
       "1      impossible                0.0                        2   \n",
       "2      impossible                0.0                        1   \n",
       "3      impossible                0.0                        1   \n",
       "4      impossible                0.0                        1   \n",
       "5        freeFlow               33.0                        2   \n",
       "\n",
       "   numberOfOperationalLanes  originalNumberOfLanes  \\\n",
       "0                         3                      4   \n",
       "1                         0                      2   \n",
       "2                         0                      1   \n",
       "3                         0                      1   \n",
       "4                         0                      1   \n",
       "5                         1                      3   \n",
       "\n",
       "           trafficRestrictionType  delayTimeValue  \n",
       "0  carriagewayPartiallyObstructed           600.0  \n",
       "1              carriagewayBlocked           900.0  \n",
       "2              carriagewayBlocked           600.0  \n",
       "3              carriagewayBlocked             0.0  \n",
       "4              carriagewayBlocked             0.0  \n",
       "5  carriagewayPartiallyObstructed             0.0  "
      ]
     },
     "execution_count": 95,
     "metadata": {},
     "output_type": "execute_result"
    }
   ],
   "source": [
    "datos = pd.DataFrame()\n",
    "datos['situationId'] = situationId\n",
    "datos['situationType']= situationType\n",
    "datos['probabilityOfOccurrence'] = probabilityOfOccurrence\n",
    "datos['impactOnTraffic'] = impactOnTraffic\n",
    "datos['capacityRemaining'] = capacityRemaining\n",
    "datos['numberOfLanesRestricted'] = numberOfLanesRestricted\n",
    "datos['numberOfOperationalLanes'] = numberOfOperationalLanes\n",
    "datos['originalNumberOfLanes'] = originalNumberOfLanes\n",
    "datos['trafficRestrictionType'] = trafficRestrictionType\n",
    "datos['delayTimeValue'] = delayTimeValue\n",
    "\n",
    "datos"
   ]
  },
  {
   "cell_type": "markdown",
   "metadata": {},
   "source": [
    "Analizamos los datos obtenidos (media y varianza) agrupándololos por \"TrafficRestrictionType\""
   ]
  },
  {
   "cell_type": "code",
   "execution_count": 96,
   "metadata": {
    "collapsed": false
   },
   "outputs": [
    {
     "data": {
      "text/html": [
       "<div>\n",
       "<table border=\"1\" class=\"dataframe\">\n",
       "  <thead>\n",
       "    <tr style=\"text-align: right;\">\n",
       "      <th></th>\n",
       "      <th>capacityRemaining</th>\n",
       "      <th>numberOfLanesRestricted</th>\n",
       "      <th>numberOfOperationalLanes</th>\n",
       "      <th>originalNumberOfLanes</th>\n",
       "      <th>delayTimeValue</th>\n",
       "    </tr>\n",
       "    <tr>\n",
       "      <th>trafficRestrictionType</th>\n",
       "      <th></th>\n",
       "      <th></th>\n",
       "      <th></th>\n",
       "      <th></th>\n",
       "      <th></th>\n",
       "    </tr>\n",
       "  </thead>\n",
       "  <tbody>\n",
       "    <tr>\n",
       "      <th>carriagewayBlocked</th>\n",
       "      <td>0.0</td>\n",
       "      <td>1.25</td>\n",
       "      <td>0.0</td>\n",
       "      <td>1.25</td>\n",
       "      <td>375.0</td>\n",
       "    </tr>\n",
       "    <tr>\n",
       "      <th>carriagewayPartiallyObstructed</th>\n",
       "      <td>54.0</td>\n",
       "      <td>1.50</td>\n",
       "      <td>2.0</td>\n",
       "      <td>3.50</td>\n",
       "      <td>300.0</td>\n",
       "    </tr>\n",
       "  </tbody>\n",
       "</table>\n",
       "</div>"
      ],
      "text/plain": [
       "                                capacityRemaining  numberOfLanesRestricted  \\\n",
       "trafficRestrictionType                                                       \n",
       "carriagewayBlocked                            0.0                     1.25   \n",
       "carriagewayPartiallyObstructed               54.0                     1.50   \n",
       "\n",
       "                                numberOfOperationalLanes  \\\n",
       "trafficRestrictionType                                     \n",
       "carriagewayBlocked                                   0.0   \n",
       "carriagewayPartiallyObstructed                       2.0   \n",
       "\n",
       "                                originalNumberOfLanes  delayTimeValue  \n",
       "trafficRestrictionType                                                 \n",
       "carriagewayBlocked                               1.25           375.0  \n",
       "carriagewayPartiallyObstructed                   3.50           300.0  "
      ]
     },
     "execution_count": 96,
     "metadata": {},
     "output_type": "execute_result"
    }
   ],
   "source": [
    "datos.groupby(['trafficRestrictionType']).mean()"
   ]
  },
  {
   "cell_type": "code",
   "execution_count": 97,
   "metadata": {
    "collapsed": false
   },
   "outputs": [
    {
     "data": {
      "text/html": [
       "<div>\n",
       "<table border=\"1\" class=\"dataframe\">\n",
       "  <thead>\n",
       "    <tr style=\"text-align: right;\">\n",
       "      <th></th>\n",
       "      <th>capacityRemaining</th>\n",
       "      <th>numberOfLanesRestricted</th>\n",
       "      <th>numberOfOperationalLanes</th>\n",
       "      <th>originalNumberOfLanes</th>\n",
       "      <th>delayTimeValue</th>\n",
       "    </tr>\n",
       "    <tr>\n",
       "      <th>trafficRestrictionType</th>\n",
       "      <th></th>\n",
       "      <th></th>\n",
       "      <th></th>\n",
       "      <th></th>\n",
       "      <th></th>\n",
       "    </tr>\n",
       "  </thead>\n",
       "  <tbody>\n",
       "    <tr>\n",
       "      <th>carriagewayBlocked</th>\n",
       "      <td>0.0</td>\n",
       "      <td>0.25</td>\n",
       "      <td>0.0</td>\n",
       "      <td>0.25</td>\n",
       "      <td>202500.0</td>\n",
       "    </tr>\n",
       "    <tr>\n",
       "      <th>carriagewayPartiallyObstructed</th>\n",
       "      <td>882.0</td>\n",
       "      <td>0.50</td>\n",
       "      <td>2.0</td>\n",
       "      <td>0.50</td>\n",
       "      <td>180000.0</td>\n",
       "    </tr>\n",
       "  </tbody>\n",
       "</table>\n",
       "</div>"
      ],
      "text/plain": [
       "                                capacityRemaining  numberOfLanesRestricted  \\\n",
       "trafficRestrictionType                                                       \n",
       "carriagewayBlocked                            0.0                     0.25   \n",
       "carriagewayPartiallyObstructed              882.0                     0.50   \n",
       "\n",
       "                                numberOfOperationalLanes  \\\n",
       "trafficRestrictionType                                     \n",
       "carriagewayBlocked                                   0.0   \n",
       "carriagewayPartiallyObstructed                       2.0   \n",
       "\n",
       "                                originalNumberOfLanes  delayTimeValue  \n",
       "trafficRestrictionType                                                 \n",
       "carriagewayBlocked                               0.25        202500.0  \n",
       "carriagewayPartiallyObstructed                   0.50        180000.0  "
      ]
     },
     "execution_count": 97,
     "metadata": {},
     "output_type": "execute_result"
    }
   ],
   "source": [
    "datos.groupby(['trafficRestrictionType']).var()"
   ]
  }
 ],
 "metadata": {
  "kernelspec": {
   "display_name": "Python 2",
   "language": "python",
   "name": "python2"
  },
  "language_info": {
   "codemirror_mode": {
    "name": "ipython",
    "version": 2
   },
   "file_extension": ".py",
   "mimetype": "text/x-python",
   "name": "python",
   "nbconvert_exporter": "python",
   "pygments_lexer": "ipython2",
   "version": "2.7.12"
  }
 },
 "nbformat": 4,
 "nbformat_minor": 0
}
