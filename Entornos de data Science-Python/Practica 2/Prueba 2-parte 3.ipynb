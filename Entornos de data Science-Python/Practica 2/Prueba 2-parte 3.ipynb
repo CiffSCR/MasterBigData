{
 "cells": [
  {
   "cell_type": "code",
   "execution_count": 1,
   "metadata": {
    "collapsed": true
   },
   "outputs": [],
   "source": [
    "import numpy as np\n",
    "import tables as tb\n",
    "import pandas as pd\n",
    "import glob\n",
    "import cProfile\n",
    "import os"
   ]
  },
  {
   "cell_type": "markdown",
   "metadata": {},
   "source": [
    "El estudio lo vamos a hacer sobre los datos de los años 2012 al 2015, ambos incluidos.\n",
    "Obtenemos un listado de los ficheros que vamos a cargar en un dataframe."
   ]
  },
  {
   "cell_type": "code",
   "execution_count": 2,
   "metadata": {
    "collapsed": false
   },
   "outputs": [],
   "source": [
    "path=\"./precip/\"\n",
    "lstFiles = []\n",
    "lstDir = os.walk(path)\n",
    "for root, dirs, files in lstDir:\n",
    "    for fichero in files:\n",
    "        (nombreFichero, extension) = os.path.splitext(fichero)\n",
    "        if(extension == \".txt\"):\n",
    "            lstFiles.append(nombreFichero+extension)"
   ]
  },
  {
   "cell_type": "markdown",
   "metadata": {},
   "source": [
    "Una vez obtenido el listado, leemos los ficheros para obtener un csv"
   ]
  },
  {
   "cell_type": "code",
   "execution_count": 3,
   "metadata": {
    "collapsed": false,
    "scrolled": true
   },
   "outputs": [
    {
     "data": {
      "text/html": [
       "<div>\n",
       "<table border=\"1\" class=\"dataframe\">\n",
       "  <thead>\n",
       "    <tr style=\"text-align: right;\">\n",
       "      <th></th>\n",
       "      <th>WBAN</th>\n",
       "      <th>YearMonthDay</th>\n",
       "      <th>Tmax</th>\n",
       "      <th>TmaxFlag</th>\n",
       "      <th>Tmin</th>\n",
       "      <th>TminFlag</th>\n",
       "      <th>Tavg</th>\n",
       "      <th>TavgFlag</th>\n",
       "      <th>Depart</th>\n",
       "      <th>DepartFlag</th>\n",
       "      <th>...</th>\n",
       "      <th>AvgSpeed</th>\n",
       "      <th>AvgSpeedFlag</th>\n",
       "      <th>Max5Speed</th>\n",
       "      <th>Max5SpeedFlag</th>\n",
       "      <th>Max5Dir</th>\n",
       "      <th>Max5DirFlag</th>\n",
       "      <th>Max2Speed</th>\n",
       "      <th>Max2SpeedFlag</th>\n",
       "      <th>Max2Dir</th>\n",
       "      <th>Max2DirFlag</th>\n",
       "    </tr>\n",
       "  </thead>\n",
       "  <tbody>\n",
       "    <tr>\n",
       "      <th>0</th>\n",
       "      <td>03013</td>\n",
       "      <td>20120101</td>\n",
       "      <td>36</td>\n",
       "      <td></td>\n",
       "      <td>10</td>\n",
       "      <td></td>\n",
       "      <td>23</td>\n",
       "      <td></td>\n",
       "      <td>M</td>\n",
       "      <td></td>\n",
       "      <td>...</td>\n",
       "      <td>5.9</td>\n",
       "      <td></td>\n",
       "      <td>17</td>\n",
       "      <td></td>\n",
       "      <td>360</td>\n",
       "      <td></td>\n",
       "      <td>14</td>\n",
       "      <td></td>\n",
       "      <td>200</td>\n",
       "      <td></td>\n",
       "    </tr>\n",
       "    <tr>\n",
       "      <th>1</th>\n",
       "      <td>03013</td>\n",
       "      <td>20120102</td>\n",
       "      <td>32</td>\n",
       "      <td></td>\n",
       "      <td>6</td>\n",
       "      <td></td>\n",
       "      <td>19</td>\n",
       "      <td></td>\n",
       "      <td>M</td>\n",
       "      <td></td>\n",
       "      <td>...</td>\n",
       "      <td>6.4</td>\n",
       "      <td></td>\n",
       "      <td>18</td>\n",
       "      <td></td>\n",
       "      <td>260</td>\n",
       "      <td></td>\n",
       "      <td>14</td>\n",
       "      <td></td>\n",
       "      <td>200</td>\n",
       "      <td></td>\n",
       "    </tr>\n",
       "    <tr>\n",
       "      <th>2</th>\n",
       "      <td>03013</td>\n",
       "      <td>20120103</td>\n",
       "      <td>43</td>\n",
       "      <td></td>\n",
       "      <td>12</td>\n",
       "      <td></td>\n",
       "      <td>28</td>\n",
       "      <td></td>\n",
       "      <td>M</td>\n",
       "      <td></td>\n",
       "      <td>...</td>\n",
       "      <td>8.2</td>\n",
       "      <td></td>\n",
       "      <td>17</td>\n",
       "      <td></td>\n",
       "      <td>230</td>\n",
       "      <td></td>\n",
       "      <td>16</td>\n",
       "      <td></td>\n",
       "      <td>230</td>\n",
       "      <td></td>\n",
       "    </tr>\n",
       "    <tr>\n",
       "      <th>3</th>\n",
       "      <td>03013</td>\n",
       "      <td>20120104</td>\n",
       "      <td>38</td>\n",
       "      <td></td>\n",
       "      <td>17</td>\n",
       "      <td></td>\n",
       "      <td>28</td>\n",
       "      <td></td>\n",
       "      <td>M</td>\n",
       "      <td></td>\n",
       "      <td>...</td>\n",
       "      <td>7.4</td>\n",
       "      <td></td>\n",
       "      <td>16</td>\n",
       "      <td></td>\n",
       "      <td>210</td>\n",
       "      <td></td>\n",
       "      <td>15</td>\n",
       "      <td></td>\n",
       "      <td>210</td>\n",
       "      <td></td>\n",
       "    </tr>\n",
       "    <tr>\n",
       "      <th>4</th>\n",
       "      <td>03013</td>\n",
       "      <td>20120105</td>\n",
       "      <td>39</td>\n",
       "      <td></td>\n",
       "      <td>20</td>\n",
       "      <td></td>\n",
       "      <td>30</td>\n",
       "      <td></td>\n",
       "      <td>M</td>\n",
       "      <td></td>\n",
       "      <td>...</td>\n",
       "      <td>7.4</td>\n",
       "      <td></td>\n",
       "      <td>18</td>\n",
       "      <td></td>\n",
       "      <td>210</td>\n",
       "      <td></td>\n",
       "      <td>17</td>\n",
       "      <td></td>\n",
       "      <td>210</td>\n",
       "      <td></td>\n",
       "    </tr>\n",
       "  </tbody>\n",
       "</table>\n",
       "<p>5 rows × 50 columns</p>\n",
       "</div>"
      ],
      "text/plain": [
       "    WBAN YearMonthDay Tmax TmaxFlag Tmin TminFlag Tavg TavgFlag Depart  \\\n",
       "0  03013     20120101   36            10            23               M   \n",
       "1  03013     20120102   32             6            19               M   \n",
       "2  03013     20120103   43            12            28               M   \n",
       "3  03013     20120104   38            17            28               M   \n",
       "4  03013     20120105   39            20            30               M   \n",
       "\n",
       "  DepartFlag     ...     AvgSpeed AvgSpeedFlag Max5Speed Max5SpeedFlag  \\\n",
       "0                ...          5.9                     17                 \n",
       "1                ...          6.4                     18                 \n",
       "2                ...          8.2                     17                 \n",
       "3                ...          7.4                     16                 \n",
       "4                ...          7.4                     18                 \n",
       "\n",
       "  Max5Dir Max5DirFlag Max2Speed Max2SpeedFlag Max2Dir Max2DirFlag  \n",
       "0     360                    14                   200              \n",
       "1     260                    14                   200              \n",
       "2     230                    16                   230              \n",
       "3     210                    15                   210              \n",
       "4     210                    17                   210              \n",
       "\n",
       "[5 rows x 50 columns]"
      ]
     },
     "execution_count": 3,
     "metadata": {},
     "output_type": "execute_result"
    }
   ],
   "source": [
    "precip_completo = pd.DataFrame()\n",
    "temp = pd.DataFrame()\n",
    "aux = []\n",
    "for lsfile in lstFiles:\n",
    "    temp = pd.read_csv(path + lsfile,index_col=None, header=0, converters={'YearMonthDay':str, 'WBAN':str})\n",
    "    aux.append(temp)\n",
    "\n",
    "precip_completo = pd.concat(aux)\n",
    "precip_completo.head()"
   ]
  },
  {
   "cell_type": "markdown",
   "metadata": {},
   "source": [
    "Volvamos todos los datos a un csv para comprobar posteriormente su tamaño y poder coparar los tiempos"
   ]
  },
  {
   "cell_type": "code",
   "execution_count": 4,
   "metadata": {
    "collapsed": false
   },
   "outputs": [
    {
     "name": "stdout",
     "output_type": "stream",
     "text": [
      "Wall time: 14.5 s\n"
     ]
    }
   ],
   "source": [
    "%time precip_completo.to_csv('precip_completo.csv')"
   ]
  },
  {
   "cell_type": "markdown",
   "metadata": {
    "collapsed": false
   },
   "source": [
    "En el csv tenemos demasiados datos que no vamos a utilizar, por lo que quitamos las columnas innecesarias. Tambien creamos una columna nueva con el año"
   ]
  },
  {
   "cell_type": "code",
   "execution_count": 5,
   "metadata": {
    "collapsed": false
   },
   "outputs": [
    {
     "name": "stdout",
     "output_type": "stream",
     "text": [
      "Wall time: 96 ms\n",
      "Wall time: 981 ms\n",
      "Wall time: 16 ms\n"
     ]
    },
    {
     "data": {
      "text/html": [
       "<div>\n",
       "<table border=\"1\" class=\"dataframe\">\n",
       "  <thead>\n",
       "    <tr style=\"text-align: right;\">\n",
       "      <th></th>\n",
       "      <th>YearMonthDay</th>\n",
       "      <th>PrecipTotal</th>\n",
       "      <th>Year</th>\n",
       "    </tr>\n",
       "  </thead>\n",
       "  <tbody>\n",
       "    <tr>\n",
       "      <th>0</th>\n",
       "      <td>20120101</td>\n",
       "      <td>0.00</td>\n",
       "      <td>2012</td>\n",
       "    </tr>\n",
       "    <tr>\n",
       "      <th>1</th>\n",
       "      <td>20120102</td>\n",
       "      <td>0.00</td>\n",
       "      <td>2012</td>\n",
       "    </tr>\n",
       "    <tr>\n",
       "      <th>2</th>\n",
       "      <td>20120103</td>\n",
       "      <td>0.00</td>\n",
       "      <td>2012</td>\n",
       "    </tr>\n",
       "    <tr>\n",
       "      <th>3</th>\n",
       "      <td>20120104</td>\n",
       "      <td>0.00</td>\n",
       "      <td>2012</td>\n",
       "    </tr>\n",
       "    <tr>\n",
       "      <th>4</th>\n",
       "      <td>20120105</td>\n",
       "      <td>0.00</td>\n",
       "      <td>2012</td>\n",
       "    </tr>\n",
       "    <tr>\n",
       "      <th>5</th>\n",
       "      <td>20120106</td>\n",
       "      <td>0.00</td>\n",
       "      <td>2012</td>\n",
       "    </tr>\n",
       "    <tr>\n",
       "      <th>6</th>\n",
       "      <td>20120107</td>\n",
       "      <td>0.00</td>\n",
       "      <td>2012</td>\n",
       "    </tr>\n",
       "    <tr>\n",
       "      <th>7</th>\n",
       "      <td>20120108</td>\n",
       "      <td>0.00</td>\n",
       "      <td>2012</td>\n",
       "    </tr>\n",
       "    <tr>\n",
       "      <th>8</th>\n",
       "      <td>20120109</td>\n",
       "      <td>0.00</td>\n",
       "      <td>2012</td>\n",
       "    </tr>\n",
       "    <tr>\n",
       "      <th>9</th>\n",
       "      <td>20120110</td>\n",
       "      <td>0.00</td>\n",
       "      <td>2012</td>\n",
       "    </tr>\n",
       "  </tbody>\n",
       "</table>\n",
       "</div>"
      ],
      "text/plain": [
       "  YearMonthDay PrecipTotal  Year\n",
       "0     20120101        0.00  2012\n",
       "1     20120102        0.00  2012\n",
       "2     20120103        0.00  2012\n",
       "3     20120104        0.00  2012\n",
       "4     20120105        0.00  2012\n",
       "5     20120106        0.00  2012\n",
       "6     20120107        0.00  2012\n",
       "7     20120108        0.00  2012\n",
       "8     20120109        0.00  2012\n",
       "9     20120110        0.00  2012"
      ]
     },
     "execution_count": 5,
     "metadata": {},
     "output_type": "execute_result"
    }
   ],
   "source": [
    "%time precip=precip_completo[['YearMonthDay',\"PrecipTotal\"]].copy()\n",
    "%time aux = precip.YearMonthDay.str[:4]\n",
    "%time precip['Year'] = aux\n",
    "precip.head(10)"
   ]
  },
  {
   "cell_type": "markdown",
   "metadata": {},
   "source": [
    "Limpiamos los datos, ya que hay valores que no son numéricos en la columna PrecipTotal, que sí debería serlo. Estos valores erroneos los suponemos 0"
   ]
  },
  {
   "cell_type": "code",
   "execution_count": 6,
   "metadata": {
    "collapsed": false
   },
   "outputs": [
    {
     "name": "stdout",
     "output_type": "stream",
     "text": [
      "Wall time: 418 ms\n",
      "Wall time: 285 ms\n"
     ]
    }
   ],
   "source": [
    "%time precip.PrecipTotal.replace(['M','  T','err'], ['0.00','0.00','0.00'], inplace=True)\n",
    "%time precip['PrecipTotal'] = precip['PrecipTotal'].astype('float') "
   ]
  },
  {
   "cell_type": "markdown",
   "metadata": {},
   "source": [
    "Ahora ya podemo trabajar con los datos.\n",
    "Vamos a calcular el día de máxima precipitación"
   ]
  },
  {
   "cell_type": "code",
   "execution_count": 7,
   "metadata": {
    "collapsed": false
   },
   "outputs": [
    {
     "name": "stdout",
     "output_type": "stream",
     "text": [
      "Wall time: 282 ms\n"
     ]
    },
    {
     "data": {
      "text/html": [
       "<div>\n",
       "<table border=\"1\" class=\"dataframe\">\n",
       "  <thead>\n",
       "    <tr style=\"text-align: right;\">\n",
       "      <th></th>\n",
       "      <th>YearMonthDay</th>\n",
       "      <th>PrecipTotal</th>\n",
       "      <th>Year</th>\n",
       "    </tr>\n",
       "  </thead>\n",
       "  <tbody>\n",
       "    <tr>\n",
       "      <th>3256</th>\n",
       "      <td>20150702</td>\n",
       "      <td>28.02</td>\n",
       "      <td>2015</td>\n",
       "    </tr>\n",
       "  </tbody>\n",
       "</table>\n",
       "</div>"
      ],
      "text/plain": [
       "     YearMonthDay  PrecipTotal  Year\n",
       "3256     20150702        28.02  2015"
      ]
     },
     "execution_count": 7,
     "metadata": {},
     "output_type": "execute_result"
    }
   ],
   "source": [
    "%time precip[precip['PrecipTotal']==max(precip['PrecipTotal'])]"
   ]
  },
  {
   "cell_type": "code",
   "execution_count": 8,
   "metadata": {
    "collapsed": false
   },
   "outputs": [
    {
     "name": "stdout",
     "output_type": "stream",
     "text": [
      "Wall time: 210 ms\n"
     ]
    },
    {
     "data": {
      "text/html": [
       "<div>\n",
       "<table border=\"1\" class=\"dataframe\">\n",
       "  <thead>\n",
       "    <tr style=\"text-align: right;\">\n",
       "      <th></th>\n",
       "      <th>PrecipTotal</th>\n",
       "    </tr>\n",
       "    <tr>\n",
       "      <th>Year</th>\n",
       "      <th></th>\n",
       "    </tr>\n",
       "  </thead>\n",
       "  <tbody>\n",
       "    <tr>\n",
       "      <th>2012</th>\n",
       "      <td>0.077193</td>\n",
       "    </tr>\n",
       "    <tr>\n",
       "      <th>2013</th>\n",
       "      <td>0.086452</td>\n",
       "    </tr>\n",
       "    <tr>\n",
       "      <th>2014</th>\n",
       "      <td>0.086585</td>\n",
       "    </tr>\n",
       "    <tr>\n",
       "      <th>2015</th>\n",
       "      <td>0.075724</td>\n",
       "    </tr>\n",
       "  </tbody>\n",
       "</table>\n",
       "</div>"
      ],
      "text/plain": [
       "      PrecipTotal\n",
       "Year             \n",
       "2012     0.077193\n",
       "2013     0.086452\n",
       "2014     0.086585\n",
       "2015     0.075724"
      ]
     },
     "execution_count": 8,
     "metadata": {},
     "output_type": "execute_result"
    }
   ],
   "source": [
    "%time grouped = precip.groupby('Year').mean()\n",
    "grouped"
   ]
  },
  {
   "cell_type": "markdown",
   "metadata": {},
   "source": [
    "Ahora vamos a hacer los mismo guardando los datos en un archivo hdf5\n",
    "vamos a cargar los datos en un dataframe por cada año"
   ]
  },
  {
   "cell_type": "code",
   "execution_count": 11,
   "metadata": {
    "collapsed": false
   },
   "outputs": [
    {
     "name": "stdout",
     "output_type": "stream",
     "text": [
      "Wall time: 620 ms\n",
      "Wall time: 53 ms\n",
      "Wall time: 7 ms\n",
      "Wall time: 441 ms\n",
      "Wall time: 464 ms\n",
      "Wall time: 470 ms\n",
      "Wall time: 556 ms\n",
      "Wall time: 437 ms\n",
      "Wall time: 444 ms\n",
      "Wall time: 439 ms\n",
      "Wall time: 524 ms\n",
      "Wall time: 6.26 s\n",
      "Wall time: 6.48 s\n",
      "Wall time: 6.03 s\n",
      "Wall time: 8.13 s\n"
     ]
    }
   ],
   "source": [
    "%time aux = precip.YearMonthDay.str[:4]\n",
    "%time precip_completo['Year'] = aux\n",
    "%time h5file = pd.HDFStore(\"precip_completo.h5\")\n",
    "%time precip2012 = precip_completo[precip_completo['Year']=='2012']\n",
    "%time precip2013 = precip_completo[precip_completo['Year']=='2013']\n",
    "%time precip2014 = precip_completo[precip_completo['Year']=='2014']\n",
    "%time precip2015 = precip_completo[precip_completo['Year']=='2015']\n",
    "%time precip2012 = precip_completo[precip_completo['Year']=='2012']\n",
    "%time precip2013 = precip_completo[precip_completo['Year']=='2013']\n",
    "%time precip2014 = precip_completo[precip_completo['Year']=='2014']\n",
    "%time precip2015 = precip_completo[precip_completo['Year']=='2015']\n",
    "%time h5file['hdf_2012'] = precip2012\n",
    "%time h5file['hdf_2013'] = precip2013\n",
    "%time h5file['hdf_2014'] = precip2014\n",
    "%time h5file['hdf_2015'] = precip2015"
   ]
  },
  {
   "cell_type": "code",
   "execution_count": 12,
   "metadata": {
    "collapsed": true
   },
   "outputs": [],
   "source": [
    "h5file.close()"
   ]
  },
  {
   "cell_type": "markdown",
   "metadata": {},
   "source": [
    "Vamos a ver qué fichero ocupa más"
   ]
  },
  {
   "cell_type": "code",
   "execution_count": 15,
   "metadata": {
    "collapsed": false
   },
   "outputs": [
    {
     "name": "stdout",
     "output_type": "stream",
     "text": [
      " El volumen de la unidad C es Windows\n",
      " El n£mero de serie del volumen es: 8C9B-8A73\n",
      "\n",
      " Directorio de C:\\Users\\Sergio_2\\Desktop\\master\\Entornos data science en Python\\proyecto fin modulo\\entrega 2\n",
      "\n",
      "\n",
      " Directorio de C:\\Users\\Sergio_2\\Desktop\\master\\Entornos data science en Python\\proyecto fin modulo\\entrega 2\n",
      "\n",
      "25/10/2016  21:27       276.359.308 precip_completo.csv\n",
      "25/10/2016  21:30       421.401.237 precip_completo.h5\n",
      "               2 archivos    697.760.545 bytes\n",
      "               0 dirs  193.016.160.256 bytes libres\n"
     ]
    }
   ],
   "source": [
    "%ls -l precip_completo.*"
   ]
  },
  {
   "cell_type": "markdown",
   "metadata": {},
   "source": [
    "Vemos que el CSV ocupa menos espacio en el disco (en teoría debería ser al contrario)"
   ]
  },
  {
   "cell_type": "markdown",
   "metadata": {},
   "source": [
    "El resto del ejercicio no he podido hacerlo con HDF5"
   ]
  }
 ],
 "metadata": {
  "kernelspec": {
   "display_name": "Python 2",
   "language": "python",
   "name": "python2"
  },
  "language_info": {
   "codemirror_mode": {
    "name": "ipython",
    "version": 2
   },
   "file_extension": ".py",
   "mimetype": "text/x-python",
   "name": "python",
   "nbconvert_exporter": "python",
   "pygments_lexer": "ipython2",
   "version": "2.7.12"
  }
 },
 "nbformat": 4,
 "nbformat_minor": 0
}
