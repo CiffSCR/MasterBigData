{
 "cells": [
  {
   "cell_type": "code",
   "execution_count": 3,
   "metadata": {
    "collapsed": false
   },
   "outputs": [
    {
     "data": {
      "application/javascript": [
       "IPython.notebook.set_autosave_interval(1000)"
      ]
     },
     "metadata": {},
     "output_type": "display_data"
    },
    {
     "name": "stdout",
     "output_type": "stream",
     "text": [
      "Autosaving every 1 seconds\n"
     ]
    }
   ],
   "source": [
    "%autosave 1\n",
    "import numpy as np\n",
    "import pandas as pd\n",
    "import time as tm\n",
    "import matplotlib.pyplot as plt\n",
    "%matplotlib inline"
   ]
  },
  {
   "cell_type": "code",
   "execution_count": 25,
   "metadata": {
    "collapsed": true
   },
   "outputs": [],
   "source": [
    "# Ejercicio 1\n",
    "#Calcular el volumen de una esfera"
   ]
  },
  {
   "cell_type": "code",
   "execution_count": 26,
   "metadata": {
    "collapsed": false
   },
   "outputs": [],
   "source": [
    "#Lanza una simulacion Monte Carlo de n iteraciones\n",
    "def MC_PI(n):\n",
    "    x =  np.random.rand(n)\n",
    "    y =  np.random.rand(n)\n",
    "    z =  np.random.rand(n)\n",
    "    c=np.where((x**2.0 + y**2.0+ z**2.0) <= 1, 1, 0)\n",
    "    p=np.sum(c)    \n",
    "    return 4.0*p/n\n",
    "\n",
    "#Lanza 100 simulaciones Monte Carlo de n iteraciones\n",
    "#y devuelve Media y Std del resultado de las 100 simulaciones\n",
    "def Simula(n):    \n",
    "    a=list(map(MC_PI, [n] * 100))\n",
    "    return [np.mean(a), np.std(a)]"
   ]
  },
  {
   "cell_type": "code",
   "execution_count": 42,
   "metadata": {
    "collapsed": false
   },
   "outputs": [
    {
     "name": "stdout",
     "output_type": "stream",
     "text": [
      "('El volumen de la esfera es:', 4.191984)\n",
      "Time: 0.08\n"
     ]
    }
   ],
   "source": [
    "#Evalua la funcion con una simulacion Monte Carlo de 1.000.000 iteraciones\n",
    "start = tm.time()\n",
    "print(\"El volumen de la esfera es:\", MC_PI(1000000)*2)\n",
    "end = tm.time()\n",
    "print(\"Time: %.2f\" % (end - start))\n"
   ]
  },
  {
   "cell_type": "code",
   "execution_count": null,
   "metadata": {
    "collapsed": true
   },
   "outputs": [],
   "source": [
    "# Ejercicio paradoja de cumpleaños"
   ]
  },
  {
   "cell_type": "code",
   "execution_count": 4,
   "metadata": {
    "collapsed": false
   },
   "outputs": [
    {
     "name": "stdout",
     "output_type": "stream",
     "text": [
      "-   2: 0.33%\n",
      "-   3: 0.84%\n",
      "-   4: 1.56%\n",
      "-   5: 2.89%\n",
      "-   6: 3.95%\n",
      "-   7: 5.65%\n",
      "-   8: 7.63%\n",
      "-   9: 9.34%\n",
      "-  10: 11.18%\n",
      "-  11: 14.05%\n",
      "-  12: 16.80%\n",
      "-  13: 19.87%\n",
      "-  14: 22.62%\n",
      "-  15: 25.89%\n",
      "-  16: 28.13%\n",
      "-  17: 31.10%\n",
      "-  18: 34.69%\n",
      "-  19: 37.73%\n",
      "-  20: 41.02%\n",
      "-  21: 44.40%\n",
      "-  22: 47.18%\n",
      "-  23: 50.71%\n",
      "-  24: 53.98%\n",
      "-  25: 56.59%\n",
      "-  26: 60.02%\n",
      "-  27: 61.92%\n",
      "-  28: 64.50%\n",
      "-  29: 68.73%\n",
      "-  30: 70.85%\n",
      "-  31: 74.03%\n",
      "-  32: 74.92%\n",
      "-  33: 77.13%\n",
      "-  34: 79.17%\n",
      "-  35: 81.13%\n",
      "-  36: 83.70%\n",
      "-  37: 84.92%\n",
      "-  38: 85.66%\n",
      "-  39: 87.52%\n",
      "-  40: 88.92%\n",
      "-  41: 90.40%\n",
      "-  42: 91.75%\n",
      "-  43: 92.11%\n",
      "-  44: 93.57%\n",
      "-  45: 94.00%\n",
      "-  46: 95.01%\n",
      "-  47: 95.34%\n",
      "-  48: 95.82%\n",
      "-  49: 96.67%\n",
      "-  50: 96.91%\n",
      "-  51: 97.52%\n",
      "-  52: 97.73%\n",
      "-  53: 98.13%\n",
      "-  54: 98.15%\n",
      "-  55: 98.55%\n",
      "-  56: 98.88%\n",
      "-  57: 99.19%\n",
      "-  58: 99.04%\n",
      "-  59: 99.23%\n"
     ]
    }
   ],
   "source": [
    "def Paradoja(n):\n",
    "    ncols=n #people\n",
    "    nrows=10000 #people\n",
    "    \n",
    "    a= np.random.randint(1,366,nrows*ncols).reshape(nrows,ncols)\n",
    "    #a= np.sort(a, axis=1)\n",
    "    c=[]\n",
    "    for i in np.arange(0,nrows):\n",
    "        z=a[i,:]\n",
    "        p=np.count_nonzero(np.unique(z))\n",
    "        c.append(p)\n",
    "        \n",
    "    c=np.asarray(c)\n",
    "    x=np.where(c==ncols,0,1)\n",
    "    return np.sum(1.0*x)/nrows\n",
    "\n",
    "for i in np.arange(2,60):\n",
    "    print('- {:=3d}: {:=4.2f}%'. format(i, Paradoja(i)*100))"
   ]
  },
  {
   "cell_type": "code",
   "execution_count": 5,
   "metadata": {
    "collapsed": true
   },
   "outputs": [],
   "source": [
    "# Resuelve la integral"
   ]
  },
  {
   "cell_type": "code",
   "execution_count": 17,
   "metadata": {
    "collapsed": false
   },
   "outputs": [],
   "source": [
    "#Lanza una simulacion Monte Carlo de n iteraciones\n",
    "def MC_I(n):\n",
    "    x =  np.random.rand(n)\n",
    "    c = ((x**(-1/3))+((1/5)*x))\n",
    "    return (np.sum(c)/n)"
   ]
  },
  {
   "cell_type": "code",
   "execution_count": 18,
   "metadata": {
    "collapsed": false
   },
   "outputs": [
    {
     "name": "stdout",
     "output_type": "stream",
     "text": [
      "16.0028460379\n",
      "Time: 0.04\n"
     ]
    },
    {
     "data": {
      "image/png": "[encoded data removed]",
      "text/plain": [
       "<matplotlib.figure.Figure at 0x9a28c50>"
      ]
     },
     "metadata": {},
     "output_type": "display_data"
    },
    {
     "name": "stdout",
     "output_type": "stream",
     "text": [
      "5.30650474907\n"
     ]
    }
   ],
   "source": [
    "#Evalua la funcion con una simulacion Monte Carlo de 1.000.000 iteraciones\n",
    "start = tm.time()\n",
    "print(MC_I(1000000))\n",
    "end = tm.time()\n",
    "print(\"Time: %.2f\" % (end - start))\n",
    "\n",
    "#Plot an example\n",
    "n=20\n",
    "w=1/float(n)\n",
    "x=np.random.rand(n)\n",
    "y=((x**(-1/3))+((1/5)*x))\n",
    "cx=np.arange(0,1.01,.01)\n",
    "cy=((cx**(-1/3))+((1/5)*cx))\n",
    "\n",
    "plt.figure(figsize=(8,5))\n",
    "plt.xlim(0,1)\n",
    "plt.bar(x-w/2, y, width = w, color=\"blue\", alpha=0.5)\n",
    "plt.plot(cx ,cy,\"k-\")\n",
    "plt.show()\n",
    "print(MC_I(n))"
   ]
  },
  {
   "cell_type": "code",
   "execution_count": null,
   "metadata": {
    "collapsed": true
   },
   "outputs": [],
   "source": [
    "# Mediante muestreo por importancia"
   ]
  },
  {
   "cell_type": "code",
   "execution_count": 19,
   "metadata": {
    "collapsed": false
   },
   "outputs": [
    {
     "data": {
      "image/png": "[encoded data removed]",
      "text/plain": [
       "<matplotlib.figure.Figure at 0x9a24438>"
      ]
     },
     "metadata": {},
     "output_type": "display_data"
    }
   ],
   "source": [
    "#Queremos integrar y=((x**(-1/3))+((1/5)*x))\n",
    "a=7.0\n",
    "b=1.2\n",
    "x = np.arange(0, 1.01, 0.01)\n",
    "y=((x**(-1/3))+((1/5)*x))\n",
    "\n",
    "plt.figure(figsize=(6,4))\n",
    "plt.xlim((0,1))\n",
    "plt.plot(x, y, 'k-')\n",
    "plt.show()"
   ]
  },
  {
   "cell_type": "code",
   "execution_count": 20,
   "metadata": {
    "collapsed": false
   },
   "outputs": [
    {
     "data": {
      "image/png": "[encoded data removed]",
      "text/plain": [
       "<matplotlib.figure.Figure at 0xa303a58>"
      ]
     },
     "metadata": {},
     "output_type": "display_data"
    }
   ],
   "source": [
    "#Utilizaremos un muestreo por importancia\n",
    "#con una Power Distribution p(x)=x^k\n",
    "\n",
    "k=5.0\n",
    "x = np.random.rand(10000)\n",
    "y = x**(1.0/(k+1))\n",
    "\n",
    "plt.figure(figsize=(6,4))\n",
    "plt.xlim((0,1))\n",
    "bins=np.arange(0.0,1.0+1.0/30,1.0/30)\n",
    "plt.hist(y, bins, normed=1, facecolor='r', alpha=0.5)\n",
    "plt.plot(bins, (k+1)*bins**k, 'k-')\n",
    "plt.show()"
   ]
  },
  {
   "cell_type": "code",
   "execution_count": 6,
   "metadata": {
    "collapsed": true
   },
   "outputs": [],
   "source": [
    "#Problema de construccion"
   ]
  },
  {
   "cell_type": "code",
   "execution_count": 14,
   "metadata": {
    "collapsed": false
   },
   "outputs": [
    {
     "data": {
      "text/plain": [
       "127"
      ]
     },
     "execution_count": 14,
     "metadata": {},
     "output_type": "execute_result"
    }
   ],
   "source": [
    "n=1000000\n",
    "tfinalAcum=0\n",
    "c=[]\n",
    "for i in np.arange(0,n):\n",
    "    T1= np.random.randint(32,48)\n",
    "    T2= np.random.randint(40,60)\n",
    "    T3= np.random.randint (15,25)\n",
    "    T4= np.random.randint (10,15)\n",
    "    T5= np.random.randint (10,15)\n",
    "    T6= np.random.randint (6,10)\n",
    "    T7= np.random.randint (18,24)\n",
    "    T8= np.random.randint (4,8)\n",
    "    \n",
    "    \n",
    "    T2=T2+T1\n",
    "    T3=T3+T1\n",
    "    T4=T4+T2\n",
    "    T5=T5+max(T2,T3)\n",
    "    T6=T6+max(T2,T3)\n",
    "    T7=T7 + max(T4,T5)\n",
    "    T8=T8 + max(T6,T7)\n",
    "    \n",
    "    tfinalAcum = tfinalAcum+T8 #Sumamos los tiempos de cada simulación\n",
    "    \n",
    "tfinalEstimado = tfinalAcum/n # Obtenemos la media de las simulaciones\n",
    "\n",
    "tfinalEstimado"
   ]
  }
 ],
 "metadata": {
  "kernelspec": {
   "display_name": "Python 2",
   "language": "python",
   "name": "python2"
  },
  "language_info": {
   "codemirror_mode": {
    "name": "ipython",
    "version": 2
   },
   "file_extension": ".py",
   "mimetype": "text/x-python",
   "name": "python",
   "nbconvert_exporter": "python",
   "pygments_lexer": "ipython2",
   "version": "2.7.12"
  }
 },
 "nbformat": 4,
 "nbformat_minor": 0
}
