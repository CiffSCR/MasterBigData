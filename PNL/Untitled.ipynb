{
 "cells": [
  {
   "cell_type": "code",
   "execution_count": 94,
   "metadata": {
    "collapsed": false
   },
   "outputs": [],
   "source": [
    "import imdb\n",
    "import csv\n",
    "import pandas as pd\n",
    "import numpy as np\n",
    "from sklearn.cross_validation import train_test_split\n",
    "from sklearn.feature_extraction.text import CountVectorizer\n",
    "from sklearn.naive_bayes import GaussianNB"
   ]
  },
  {
   "cell_type": "code",
   "execution_count": 95,
   "metadata": {
    "collapsed": false
   },
   "outputs": [],
   "source": [
    "datos = pd.read_csv(\"peliculas.csv\", sep='\\t', lineterminator='\\r')"
   ]
  },
  {
   "cell_type": "code",
   "execution_count": 96,
   "metadata": {
    "collapsed": false
   },
   "outputs": [
    {
     "data": {
      "text/html": [
       "<div>\n",
       "<table border=\"1\" class=\"dataframe\">\n",
       "  <thead>\n",
       "    <tr style=\"text-align: right;\">\n",
       "      <th></th>\n",
       "      <th>Titulo</th>\n",
       "      <th>ID</th>\n",
       "      <th>Genero</th>\n",
       "      <th>Usuario</th>\n",
       "    </tr>\n",
       "  </thead>\n",
       "  <tbody>\n",
       "    <tr>\n",
       "      <th>0</th>\n",
       "      <td>\\nLa guerra de las galaxias I</td>\n",
       "      <td>120915</td>\n",
       "      <td>Ciencia Ficcion</td>\n",
       "      <td>1</td>\n",
       "    </tr>\n",
       "    <tr>\n",
       "      <th>1</th>\n",
       "      <td>\\nLa guerra de las galaxias II</td>\n",
       "      <td>121765</td>\n",
       "      <td>Ciencia Ficcion</td>\n",
       "      <td>1</td>\n",
       "    </tr>\n",
       "    <tr>\n",
       "      <th>2</th>\n",
       "      <td>\\nLa guerra de las galaxias III</td>\n",
       "      <td>121766</td>\n",
       "      <td>Ciencia Ficcion</td>\n",
       "      <td>1</td>\n",
       "    </tr>\n",
       "    <tr>\n",
       "      <th>3</th>\n",
       "      <td>\\nLa guerra de las galaxias IV</td>\n",
       "      <td>76759</td>\n",
       "      <td>Ciencia Ficcion</td>\n",
       "      <td>1</td>\n",
       "    </tr>\n",
       "    <tr>\n",
       "      <th>4</th>\n",
       "      <td>\\nLa guerra de las galaxias V</td>\n",
       "      <td>80684</td>\n",
       "      <td>Ciencia Ficcion</td>\n",
       "      <td>1</td>\n",
       "    </tr>\n",
       "  </tbody>\n",
       "</table>\n",
       "</div>"
      ],
      "text/plain": [
       "                            Titulo      ID           Genero  Usuario\n",
       "0    \\nLa guerra de las galaxias I  120915  Ciencia Ficcion        1\n",
       "1   \\nLa guerra de las galaxias II  121765  Ciencia Ficcion        1\n",
       "2  \\nLa guerra de las galaxias III  121766  Ciencia Ficcion        1\n",
       "3   \\nLa guerra de las galaxias IV   76759  Ciencia Ficcion        1\n",
       "4    \\nLa guerra de las galaxias V   80684  Ciencia Ficcion        1"
      ]
     },
     "execution_count": 96,
     "metadata": {},
     "output_type": "execute_result"
    }
   ],
   "source": [
    "datos.head()"
   ]
  },
  {
   "cell_type": "code",
   "execution_count": 97,
   "metadata": {
    "collapsed": false
   },
   "outputs": [],
   "source": [
    "IdFilm=datos[\"ID\"]"
   ]
  },
  {
   "cell_type": "code",
   "execution_count": 98,
   "metadata": {
    "collapsed": true
   },
   "outputs": [],
   "source": [
    "access = imdb.IMDb()\n",
    "ia = imdb.IMDb('http') "
   ]
  },
  {
   "cell_type": "code",
   "execution_count": 99,
   "metadata": {
    "collapsed": false
   },
   "outputs": [
    {
     "data": {
      "text/html": [
       "<div>\n",
       "<table border=\"1\" class=\"dataframe\">\n",
       "  <thead>\n",
       "    <tr style=\"text-align: right;\">\n",
       "      <th></th>\n",
       "      <th>Id</th>\n",
       "      <th>title</th>\n",
       "      <th>synopsis</th>\n",
       "    </tr>\n",
       "  </thead>\n",
       "  <tbody>\n",
       "    <tr>\n",
       "      <th>120915</th>\n",
       "      <td>120915.0</td>\n",
       "      <td>Star Wars: Episode I - The Phantom Menace</td>\n",
       "      <td>The opening crawl reveals that the Trade Feder...</td>\n",
       "    </tr>\n",
       "    <tr>\n",
       "      <th>121765</th>\n",
       "      <td>121765.0</td>\n",
       "      <td>Star Wars: Episode II - Attack of the Clones</td>\n",
       "      <td>The opening crawl reveals that the Galactic Re...</td>\n",
       "    </tr>\n",
       "    <tr>\n",
       "      <th>121766</th>\n",
       "      <td>121766.0</td>\n",
       "      <td>Star Wars: Episode III - Revenge of the Sith</td>\n",
       "      <td>The opening crawl reveals that the galaxy is i...</td>\n",
       "    </tr>\n",
       "    <tr>\n",
       "      <th>76759</th>\n",
       "      <td>76759.0</td>\n",
       "      <td>Star Wars</td>\n",
       "      <td>Note: Italicized paragraphs describe scenes ad...</td>\n",
       "    </tr>\n",
       "    <tr>\n",
       "      <th>80684</th>\n",
       "      <td>80684.0</td>\n",
       "      <td>Star Wars: Episode V - The Empire Strikes Back</td>\n",
       "      <td>In this sequel to the previous Star Wars movie...</td>\n",
       "    </tr>\n",
       "  </tbody>\n",
       "</table>\n",
       "</div>"
      ],
      "text/plain": [
       "              Id                                           title  \\\n",
       "120915  120915.0       Star Wars: Episode I - The Phantom Menace   \n",
       "121765  121765.0    Star Wars: Episode II - Attack of the Clones   \n",
       "121766  121766.0    Star Wars: Episode III - Revenge of the Sith   \n",
       "76759    76759.0                                       Star Wars   \n",
       "80684    80684.0  Star Wars: Episode V - The Empire Strikes Back   \n",
       "\n",
       "                                                 synopsis  \n",
       "120915  The opening crawl reveals that the Trade Feder...  \n",
       "121765  The opening crawl reveals that the Galactic Re...  \n",
       "121766  The opening crawl reveals that the galaxy is i...  \n",
       "76759   Note: Italicized paragraphs describe scenes ad...  \n",
       "80684   In this sequel to the previous Star Wars movie...  "
      ]
     },
     "execution_count": 99,
     "metadata": {},
     "output_type": "execute_result"
    }
   ],
   "source": [
    "sinopsis = pd.DataFrame(columns=['Id', 'title', 'synopsis'])\n",
    "for i in IdFilm:\n",
    "    movie = ia.get_movie(i)\n",
    "    ia.update(movie, 'synopsis') # fetch the 'synopsis' data set.\n",
    "    auxTitle=movie.get('title')\n",
    "    auxSynopsis=movie.get('synopsis')\n",
    "    sinopsis.loc[i]=[i,auxTitle,auxSynopsis]\n",
    "sinopsis.head()"
   ]
  },
  {
   "cell_type": "code",
   "execution_count": 100,
   "metadata": {
    "collapsed": false
   },
   "outputs": [],
   "source": [
    "x = sinopsis['synopsis']\n",
    "y = datos['Usuario']\n"
   ]
  },
  {
   "cell_type": "code",
   "execution_count": 101,
   "metadata": {
    "collapsed": false
   },
   "outputs": [],
   "source": [
    "#dividimos la muestra en train (80%) y test (20%) para los dos usuarios\n",
    "x_train, x_test, y_train, y_test = train_test_split(x, y, test_size=0.2)"
   ]
  },
  {
   "cell_type": "code",
   "execution_count": 102,
   "metadata": {
    "collapsed": false
   },
   "outputs": [
    {
     "data": {
      "text/plain": [
       "80    1\n",
       "53    0\n",
       "13    1\n",
       "82    1\n",
       "50    0\n",
       "5     1\n",
       "15    1\n",
       "64    0\n",
       "90    0\n",
       "75    1\n",
       "2     1\n",
       "35    0\n",
       "72    1\n",
       "60    0\n",
       "69    0\n",
       "24    1\n",
       "37    0\n",
       "67    0\n",
       "23    1\n",
       "81    1\n",
       "Name: Usuario, dtype: int64"
      ]
     },
     "execution_count": 102,
     "metadata": {},
     "output_type": "execute_result"
    }
   ],
   "source": [
    "y_test"
   ]
  },
  {
   "cell_type": "code",
   "execution_count": 108,
   "metadata": {
    "collapsed": false
   },
   "outputs": [
    {
     "name": "stdout",
     "output_type": "stream",
     "text": [
      "Titulo     \\nCometieron dos errores\n",
      "ID                            61747\n",
      "Genero                        Oeste\n",
      "Usuario                           1\n",
      "Name: 80, dtype: object\n",
      "Titulo     \\ncomo agua para chocolate\n",
      "ID                             103994\n",
      "Genero                         cocina\n",
      "Usuario                             0\n",
      "Name: 90, dtype: object\n",
      "Titulo     \\nbuscando a nemo\n",
      "ID                    266543\n",
      "Genero             Animacion\n",
      "Usuario                    0\n",
      "Name: 35, dtype: object\n",
      "Titulo     \\nEncerrado\n",
      "ID               97770\n",
      "Genero           drama\n",
      "Usuario              0\n",
      "Name: 69, dtype: object\n"
     ]
    }
   ],
   "source": [
    "print datos.loc[80]\n",
    "print datos.loc[90]\n",
    "print datos.loc[35]\n",
    "print datos.loc[69]"
   ]
  },
  {
   "cell_type": "code",
   "execution_count": 104,
   "metadata": {
    "collapsed": false,
    "scrolled": true
   },
   "outputs": [],
   "source": [
    "vectorizer = CountVectorizer()\n",
    "vectorizer.fit(x_train)\n",
    "x_vectrain = vectorizer.transform(x_train)\n",
    "x_vectest = vectorizer.transform(x_test)"
   ]
  },
  {
   "cell_type": "code",
   "execution_count": 105,
   "metadata": {
    "collapsed": false
   },
   "outputs": [
    {
     "data": {
      "text/plain": [
       "GaussianNB()"
      ]
     },
     "execution_count": 105,
     "metadata": {},
     "output_type": "execute_result"
    }
   ],
   "source": [
    "model = GaussianNB()\n",
    "model.fit(x_vectrain.toarray(), y_train)"
   ]
  },
  {
   "cell_type": "code",
   "execution_count": 106,
   "metadata": {
    "collapsed": false
   },
   "outputs": [],
   "source": [
    "pred=model.predict(x_vectest.toarray())"
   ]
  },
  {
   "cell_type": "code",
   "execution_count": 107,
   "metadata": {
    "collapsed": false
   },
   "outputs": [
    {
     "data": {
      "text/html": [
       "<div>\n",
       "<table border=\"1\" class=\"dataframe\">\n",
       "  <thead>\n",
       "    <tr style=\"text-align: right;\">\n",
       "      <th></th>\n",
       "      <th>comparacion</th>\n",
       "    </tr>\n",
       "  </thead>\n",
       "  <tbody>\n",
       "    <tr>\n",
       "      <th>0</th>\n",
       "      <td>False</td>\n",
       "    </tr>\n",
       "    <tr>\n",
       "      <th>1</th>\n",
       "      <td>True</td>\n",
       "    </tr>\n",
       "    <tr>\n",
       "      <th>2</th>\n",
       "      <td>True</td>\n",
       "    </tr>\n",
       "    <tr>\n",
       "      <th>3</th>\n",
       "      <td>True</td>\n",
       "    </tr>\n",
       "    <tr>\n",
       "      <th>4</th>\n",
       "      <td>True</td>\n",
       "    </tr>\n",
       "    <tr>\n",
       "      <th>5</th>\n",
       "      <td>True</td>\n",
       "    </tr>\n",
       "    <tr>\n",
       "      <th>6</th>\n",
       "      <td>True</td>\n",
       "    </tr>\n",
       "    <tr>\n",
       "      <th>7</th>\n",
       "      <td>True</td>\n",
       "    </tr>\n",
       "    <tr>\n",
       "      <th>8</th>\n",
       "      <td>False</td>\n",
       "    </tr>\n",
       "    <tr>\n",
       "      <th>9</th>\n",
       "      <td>True</td>\n",
       "    </tr>\n",
       "    <tr>\n",
       "      <th>10</th>\n",
       "      <td>True</td>\n",
       "    </tr>\n",
       "    <tr>\n",
       "      <th>11</th>\n",
       "      <td>False</td>\n",
       "    </tr>\n",
       "    <tr>\n",
       "      <th>12</th>\n",
       "      <td>True</td>\n",
       "    </tr>\n",
       "    <tr>\n",
       "      <th>13</th>\n",
       "      <td>True</td>\n",
       "    </tr>\n",
       "    <tr>\n",
       "      <th>14</th>\n",
       "      <td>False</td>\n",
       "    </tr>\n",
       "    <tr>\n",
       "      <th>15</th>\n",
       "      <td>True</td>\n",
       "    </tr>\n",
       "    <tr>\n",
       "      <th>16</th>\n",
       "      <td>True</td>\n",
       "    </tr>\n",
       "    <tr>\n",
       "      <th>17</th>\n",
       "      <td>True</td>\n",
       "    </tr>\n",
       "    <tr>\n",
       "      <th>18</th>\n",
       "      <td>True</td>\n",
       "    </tr>\n",
       "    <tr>\n",
       "      <th>19</th>\n",
       "      <td>True</td>\n",
       "    </tr>\n",
       "  </tbody>\n",
       "</table>\n",
       "</div>"
      ],
      "text/plain": [
       "   comparacion\n",
       "0        False\n",
       "1         True\n",
       "2         True\n",
       "3         True\n",
       "4         True\n",
       "5         True\n",
       "6         True\n",
       "7         True\n",
       "8        False\n",
       "9         True\n",
       "10        True\n",
       "11       False\n",
       "12        True\n",
       "13        True\n",
       "14       False\n",
       "15        True\n",
       "16        True\n",
       "17        True\n",
       "18        True\n",
       "19        True"
      ]
     },
     "execution_count": 107,
     "metadata": {},
     "output_type": "execute_result"
    }
   ],
   "source": [
    "result = pd.DataFrame(columns=['comparacion'])\n",
    "i = 0\n",
    "while i < len(pred):\n",
    "    result.loc[i]= (y_test.iloc[i]== pred[i])\n",
    "    i=i+1\n",
    "result"
   ]
  }
 ],
 "metadata": {
  "kernelspec": {
   "display_name": "Python 2",
   "language": "python",
   "name": "python2"
  },
  "language_info": {
   "codemirror_mode": {
    "name": "ipython",
    "version": 2
   },
   "file_extension": ".py",
   "mimetype": "text/x-python",
   "name": "python",
   "nbconvert_exporter": "python",
   "pygments_lexer": "ipython2",
   "version": "2.7.12"
  }
 },
 "nbformat": 4,
 "nbformat_minor": 0
}
